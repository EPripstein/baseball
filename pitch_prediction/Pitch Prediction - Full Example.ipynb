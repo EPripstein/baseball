{
 "cells": [
  {
   "cell_type": "markdown",
   "metadata": {},
   "source": [
    "# Pitch Prediction\n",
    "\n",
    "The goal of this project is to see if I can build a model to predict what pitch a pitcher is going to throw next. As a start, I used the pitchRx package in R to create a SQLite database with all of the PITCHF/x data needed. The first step in the project is to query that database for the necessary data. "
   ]
  },
  {
   "cell_type": "markdown",
   "metadata": {},
   "source": [
    "## Querying the DB\n",
    "\n",
    "Here I'm going to take a look at the tables in the database, determine what data I want, and write a query to get that data."
   ]
  },
  {
   "cell_type": "code",
   "execution_count": 1,
   "metadata": {},
   "outputs": [],
   "source": [
    "#Import libraries\n",
    "\n",
    "import warnings; warnings.simplefilter('ignore')\n",
    "import pandas as pd\n",
    "import numpy as np\n",
    "import seaborn as sns\n",
    "import sqlite3\n",
    "%matplotlib inline"
   ]
  },
  {
   "cell_type": "code",
   "execution_count": 2,
   "metadata": {},
   "outputs": [],
   "source": [
    "#Create connection to sqlite database\n",
    "\n",
    "db_path = \"2017_pitchfx.sqlite3\"\n",
    "con = sqlite3.connect(db_path)"
   ]
  },
  {
   "cell_type": "code",
   "execution_count": 3,
   "metadata": {},
   "outputs": [
    {
     "name": "stdout",
     "output_type": "stream",
     "text": [
      "[('atbat',), ('action',), ('pitch',), ('po',), ('runner',)]\n"
     ]
    }
   ],
   "source": [
    "#View tables in the database\n",
    "\n",
    "cur = con.cursor()\n",
    "cur.execute(\"SELECT name FROM sqlite_master WHERE type='table';\")\n",
    "tables = cur.fetchall()\n",
    "print(tables)"
   ]
  },
  {
   "cell_type": "code",
   "execution_count": 4,
   "metadata": {},
   "outputs": [
    {
     "name": "stdout",
     "output_type": "stream",
     "text": [
      "Columns in atbat: \n",
      " ['pitcher', 'batter', 'num', 'b', 's', 'o', 'start_tfs', 'start_tfs_zulu', 'stand', 'b_height', 'p_throws', 'atbat_des', 'atbat_des_es', 'event', 'score', 'home_team_runs', 'away_team_runs', 'url', 'inning_side', 'inning', 'next_', 'event2', 'event3', 'batter_name', 'pitcher_name', 'event4', 'gameday_link', 'date', 'event_num', 'event_es', 'play_guid', 'event2_es', 'end_tfs_zulu', 'event3_es'] \n",
      "\n",
      "Columns in action: \n",
      " ['b', 's', 'o', 'des', 'des_es', 'event', 'tfs', 'tfs_zulu', 'player', 'pitch', 'url', 'inning_side', 'inning', 'next_', 'num', 'score', 'home_team_runs', 'away_team_runs', 'event2', 'gameday_link', 'event_es', 'event_num', 'play_guid', 'event2_es'] \n",
      "\n",
      "Columns in pitch: \n",
      " ['des', 'des_es', 'id', 'type', 'tfs', 'tfs_zulu', 'x', 'y', 'sv_id', 'start_speed', 'end_speed', 'sz_top', 'sz_bot', 'pfx_x', 'pfx_z', 'px', 'pz', 'x0', 'y0', 'z0', 'vx0', 'vy0', 'vz0', 'ax', 'ay', 'az', 'break_y', 'break_angle', 'break_length', 'pitch_type', 'type_confidence', 'zone', 'nasty', 'spin_dir', 'spin_rate', 'cc', 'mt', 'url', 'inning_side', 'inning', 'next_', 'num', 'on_1b', 'on_2b', 'on_3b', 'count', 'gameday_link', 'code', 'event_num', 'play_guid'] \n",
      "\n",
      "Columns in po: \n",
      " ['des', 'url', 'inning_side', 'inning', 'next_', 'num', 'gameday_link', 'des_es', 'event_num', 'play_guid', 'catcher'] \n",
      "\n",
      "Columns in runner: \n",
      " ['id', 'start', 'end', 'event', 'score', 'rbi', 'earned', 'url', 'inning_side', 'inning', 'next_', 'num', 'gameday_link', 'event_num'] \n",
      "\n"
     ]
    }
   ],
   "source": [
    "#Print columns in tables\n",
    "\n",
    "def print_col_names(table_list):\n",
    "    for table in table_list:\n",
    "        cur.execute(\"SELECT * FROM %s;\" %table)\n",
    "        names = list(map(lambda x: x[0], cur.description))\n",
    "        print('Columns in %s: \\n' %table, names, '\\n')\n",
    "        \n",
    "print_col_names(tables)"
   ]
  },
  {
   "cell_type": "markdown",
   "metadata": {},
   "source": [
    "Here is the list of columns I'm interested in for exploratory analysis and building my model:\n",
    "\n",
    "From the atbat table:\n",
    "\n",
    "|Column|Description|\n",
    "|:-----|:-----------|\n",
    "|num|Number of the at bat in the game|\n",
    "|stand|Batter handedness|\n",
    "|pitcher_name|Pitcher name|\n",
    "\n",
    "\n",
    "From the pitch table:\n",
    "\n",
    "|Column|Description|\n",
    "|:-----|:-----------|\n",
    "|px|the left/right distance, in feet, of the pitch from the middle of the plate as it crossed home plate. The PITCHf/x coordinate system is oriented to the catcher’s/umpire’s perspective, with distances to the right being positive and to the left being negative. ([source](https://fastballs.wordpress.com/2007/08/02/glossary-of-the-gameday-pitch-fields/))|\n",
    "|pz|the height of the pitch in feet as it crossed the front of home plate. ([source](https://fastballs.wordpress.com/2007/08/02/glossary-of-the-gameday-pitch-fields/))|\n",
    "|pitch_type|MLBAM's prediction for the type of pitch thrown|\n",
    "|on_1b|ID of the runner on first base|\n",
    "|on_2b|ID of the runner on second base|\n",
    "|on_3b|ID of the runner on third base|\n",
    "|count|The current count in the at bat|\n",
    "\n",
    "I'm also going to be grabbing a few columns that will help me with feature engineering down the line. "
   ]
  },
  {
   "cell_type": "markdown",
   "metadata": {},
   "source": [
    "### Performing the Query"
   ]
  },
  {
   "cell_type": "code",
   "execution_count": 5,
   "metadata": {},
   "outputs": [],
   "source": [
    "def get_pitcher_data(pitcher_name):\n",
    "    df = pd.read_sql_query(\"SELECT ab.pitcher_name, ab.stand, p.count, \\\n",
    "                           p.px, p.pz, p.pitch_type, p.on_1b, p.on_2b, p.on_3b, p.num, p.gameday_link \\\n",
    "                           FROM pitch AS p \\\n",
    "                           LEFT OUTER JOIN atbat AS ab \\\n",
    "                           ON ab.gameday_link = p.gameday_link \\\n",
    "                           AND ab.num = p.num \\\n",
    "                           WHERE ab.pitcher_name = '%s';\" % pitcher_name, con)\n",
    "    return df"
   ]
  },
  {
   "cell_type": "code",
   "execution_count": 6,
   "metadata": {},
   "outputs": [],
   "source": [
    "kershaw = get_pitcher_data('Clayton Kershaw')"
   ]
  },
  {
   "cell_type": "code",
   "execution_count": 7,
   "metadata": {},
   "outputs": [
    {
     "data": {
      "text/html": [
       "<div>\n",
       "<style scoped>\n",
       "    .dataframe tbody tr th:only-of-type {\n",
       "        vertical-align: middle;\n",
       "    }\n",
       "\n",
       "    .dataframe tbody tr th {\n",
       "        vertical-align: top;\n",
       "    }\n",
       "\n",
       "    .dataframe thead th {\n",
       "        text-align: right;\n",
       "    }\n",
       "</style>\n",
       "<table border=\"1\" class=\"dataframe\">\n",
       "  <thead>\n",
       "    <tr style=\"text-align: right;\">\n",
       "      <th></th>\n",
       "      <th>pitcher_name</th>\n",
       "      <th>stand</th>\n",
       "      <th>count</th>\n",
       "      <th>px</th>\n",
       "      <th>pz</th>\n",
       "      <th>pitch_type</th>\n",
       "      <th>on_1b</th>\n",
       "      <th>on_2b</th>\n",
       "      <th>on_3b</th>\n",
       "      <th>num</th>\n",
       "      <th>gameday_link</th>\n",
       "    </tr>\n",
       "  </thead>\n",
       "  <tbody>\n",
       "    <tr>\n",
       "      <th>0</th>\n",
       "      <td>Clayton Kershaw</td>\n",
       "      <td>R</td>\n",
       "      <td>0-0</td>\n",
       "      <td>-0.903222</td>\n",
       "      <td>2.579589</td>\n",
       "      <td>FF</td>\n",
       "      <td>NaN</td>\n",
       "      <td>NaN</td>\n",
       "      <td>453568.0</td>\n",
       "      <td>22.0</td>\n",
       "      <td>gid_2017_04_08_lanmlb_colmlb_1</td>\n",
       "    </tr>\n",
       "    <tr>\n",
       "      <th>1</th>\n",
       "      <td>Clayton Kershaw</td>\n",
       "      <td>R</td>\n",
       "      <td>0-0</td>\n",
       "      <td>-0.896615</td>\n",
       "      <td>2.162837</td>\n",
       "      <td>FF</td>\n",
       "      <td>467827.0</td>\n",
       "      <td>448602.0</td>\n",
       "      <td>NaN</td>\n",
       "      <td>32.0</td>\n",
       "      <td>gid_2017_04_08_lanmlb_colmlb_1</td>\n",
       "    </tr>\n",
       "    <tr>\n",
       "      <th>2</th>\n",
       "      <td>Clayton Kershaw</td>\n",
       "      <td>R</td>\n",
       "      <td>1-1</td>\n",
       "      <td>-0.756494</td>\n",
       "      <td>2.526617</td>\n",
       "      <td>FF</td>\n",
       "      <td>467827.0</td>\n",
       "      <td>448602.0</td>\n",
       "      <td>NaN</td>\n",
       "      <td>32.0</td>\n",
       "      <td>gid_2017_04_08_lanmlb_colmlb_1</td>\n",
       "    </tr>\n",
       "    <tr>\n",
       "      <th>3</th>\n",
       "      <td>Clayton Kershaw</td>\n",
       "      <td>R</td>\n",
       "      <td>0-1</td>\n",
       "      <td>0.325779</td>\n",
       "      <td>0.686945</td>\n",
       "      <td>SL</td>\n",
       "      <td>467827.0</td>\n",
       "      <td>448602.0</td>\n",
       "      <td>NaN</td>\n",
       "      <td>32.0</td>\n",
       "      <td>gid_2017_04_08_lanmlb_colmlb_1</td>\n",
       "    </tr>\n",
       "    <tr>\n",
       "      <th>4</th>\n",
       "      <td>Clayton Kershaw</td>\n",
       "      <td>R</td>\n",
       "      <td>0-0</td>\n",
       "      <td>-0.154359</td>\n",
       "      <td>1.404650</td>\n",
       "      <td>SL</td>\n",
       "      <td>NaN</td>\n",
       "      <td>NaN</td>\n",
       "      <td>NaN</td>\n",
       "      <td>27.0</td>\n",
       "      <td>gid_2017_04_14_arimlb_lanmlb_1</td>\n",
       "    </tr>\n",
       "    <tr>\n",
       "      <th>5</th>\n",
       "      <td>Clayton Kershaw</td>\n",
       "      <td>R</td>\n",
       "      <td>0-1</td>\n",
       "      <td>0.309749</td>\n",
       "      <td>2.721547</td>\n",
       "      <td>FF</td>\n",
       "      <td>NaN</td>\n",
       "      <td>NaN</td>\n",
       "      <td>NaN</td>\n",
       "      <td>27.0</td>\n",
       "      <td>gid_2017_04_14_arimlb_lanmlb_1</td>\n",
       "    </tr>\n",
       "    <tr>\n",
       "      <th>6</th>\n",
       "      <td>Clayton Kershaw</td>\n",
       "      <td>R</td>\n",
       "      <td>0-0</td>\n",
       "      <td>-0.466681</td>\n",
       "      <td>3.273685</td>\n",
       "      <td>FF</td>\n",
       "      <td>NaN</td>\n",
       "      <td>NaN</td>\n",
       "      <td>NaN</td>\n",
       "      <td>13.0</td>\n",
       "      <td>gid_2017_04_08_lanmlb_colmlb_1</td>\n",
       "    </tr>\n",
       "    <tr>\n",
       "      <th>7</th>\n",
       "      <td>Clayton Kershaw</td>\n",
       "      <td>R</td>\n",
       "      <td>0-1</td>\n",
       "      <td>0.262394</td>\n",
       "      <td>1.670713</td>\n",
       "      <td>CU</td>\n",
       "      <td>NaN</td>\n",
       "      <td>NaN</td>\n",
       "      <td>NaN</td>\n",
       "      <td>13.0</td>\n",
       "      <td>gid_2017_04_08_lanmlb_colmlb_1</td>\n",
       "    </tr>\n",
       "    <tr>\n",
       "      <th>8</th>\n",
       "      <td>Clayton Kershaw</td>\n",
       "      <td>R</td>\n",
       "      <td>0-2</td>\n",
       "      <td>1.009219</td>\n",
       "      <td>2.911815</td>\n",
       "      <td>FF</td>\n",
       "      <td>NaN</td>\n",
       "      <td>NaN</td>\n",
       "      <td>NaN</td>\n",
       "      <td>13.0</td>\n",
       "      <td>gid_2017_04_08_lanmlb_colmlb_1</td>\n",
       "    </tr>\n",
       "    <tr>\n",
       "      <th>9</th>\n",
       "      <td>Clayton Kershaw</td>\n",
       "      <td>R</td>\n",
       "      <td>0-0</td>\n",
       "      <td>-0.221781</td>\n",
       "      <td>1.714192</td>\n",
       "      <td>FF</td>\n",
       "      <td>NaN</td>\n",
       "      <td>NaN</td>\n",
       "      <td>NaN</td>\n",
       "      <td>58.0</td>\n",
       "      <td>gid_2017_04_03_sdnmlb_lanmlb_1</td>\n",
       "    </tr>\n",
       "  </tbody>\n",
       "</table>\n",
       "</div>"
      ],
      "text/plain": [
       "      pitcher_name stand count        px        pz pitch_type     on_1b  \\\n",
       "0  Clayton Kershaw     R   0-0 -0.903222  2.579589         FF       NaN   \n",
       "1  Clayton Kershaw     R   0-0 -0.896615  2.162837         FF  467827.0   \n",
       "2  Clayton Kershaw     R   1-1 -0.756494  2.526617         FF  467827.0   \n",
       "3  Clayton Kershaw     R   0-1  0.325779  0.686945         SL  467827.0   \n",
       "4  Clayton Kershaw     R   0-0 -0.154359  1.404650         SL       NaN   \n",
       "5  Clayton Kershaw     R   0-1  0.309749  2.721547         FF       NaN   \n",
       "6  Clayton Kershaw     R   0-0 -0.466681  3.273685         FF       NaN   \n",
       "7  Clayton Kershaw     R   0-1  0.262394  1.670713         CU       NaN   \n",
       "8  Clayton Kershaw     R   0-2  1.009219  2.911815         FF       NaN   \n",
       "9  Clayton Kershaw     R   0-0 -0.221781  1.714192         FF       NaN   \n",
       "\n",
       "      on_2b     on_3b   num                    gameday_link  \n",
       "0       NaN  453568.0  22.0  gid_2017_04_08_lanmlb_colmlb_1  \n",
       "1  448602.0       NaN  32.0  gid_2017_04_08_lanmlb_colmlb_1  \n",
       "2  448602.0       NaN  32.0  gid_2017_04_08_lanmlb_colmlb_1  \n",
       "3  448602.0       NaN  32.0  gid_2017_04_08_lanmlb_colmlb_1  \n",
       "4       NaN       NaN  27.0  gid_2017_04_14_arimlb_lanmlb_1  \n",
       "5       NaN       NaN  27.0  gid_2017_04_14_arimlb_lanmlb_1  \n",
       "6       NaN       NaN  13.0  gid_2017_04_08_lanmlb_colmlb_1  \n",
       "7       NaN       NaN  13.0  gid_2017_04_08_lanmlb_colmlb_1  \n",
       "8       NaN       NaN  13.0  gid_2017_04_08_lanmlb_colmlb_1  \n",
       "9       NaN       NaN  58.0  gid_2017_04_03_sdnmlb_lanmlb_1  "
      ]
     },
     "execution_count": 7,
     "metadata": {},
     "output_type": "execute_result"
    }
   ],
   "source": [
    "kershaw.head(10)"
   ]
  },
  {
   "cell_type": "code",
   "execution_count": 32,
   "metadata": {},
   "outputs": [],
   "source": [
    "#Close db connection\n",
    "con.close()"
   ]
  },
  {
   "cell_type": "markdown",
   "metadata": {},
   "source": [
    "## Data Cleaning and Feature Engineering\n",
    "\n",
    "I can already see from my quick look at the data above that I'm going to want to clean up some columns. I also want to creare a few columns that I think might be useful for my analysis. One of the things I noticed right away is that the on-base columns are not booleans as I thought they might be, but actually contain player IDs. For my purposes, I'm going to switch these to a boolean response (1 for a man on, 0 for an empty base). "
   ]
  },
  {
   "cell_type": "code",
   "execution_count": 33,
   "metadata": {},
   "outputs": [
    {
     "name": "stdout",
     "output_type": "stream",
     "text": [
      "<class 'pandas.core.frame.DataFrame'>\n",
      "Int64Index: 2436 entries, 0 to 2520\n",
      "Data columns (total 15 columns):\n",
      "pitcher_name    2436 non-null object\n",
      "stand           2436 non-null object\n",
      "count           2436 non-null object\n",
      "px              2436 non-null float64\n",
      "pz              2436 non-null float64\n",
      "pitch_type      2436 non-null object\n",
      "on_1b           2436 non-null float64\n",
      "on_2b           2436 non-null float64\n",
      "on_3b           2436 non-null float64\n",
      "num             2436 non-null float64\n",
      "gameday_link    2436 non-null object\n",
      "tto             2436 non-null float64\n",
      "prev_pitch      2436 non-null object\n",
      "balls           2436 non-null object\n",
      "strikes         2436 non-null object\n",
      "dtypes: float64(7), object(8)\n",
      "memory usage: 384.5+ KB\n"
     ]
    }
   ],
   "source": [
    "def convert_on_base(df):\n",
    "    #Fill NaN's with 0s\n",
    "    df['on_1b'].fillna(0, inplace = True)\n",
    "    df['on_2b'].fillna(0, inplace = True)\n",
    "    df['on_3b'].fillna(0, inplace = True)\n",
    "    #Now convert non-0 values to 1, just to indicate there is a man on. \n",
    "    df['on_1b'][df['on_1b'] > 0] = 1\n",
    "    df['on_2b'][df['on_2b'] > 0] = 1\n",
    "    df['on_3b'][df['on_3b'] > 0] = 1\n",
    "    return df\n",
    "\n",
    "kershaw = convert_on_base(kershaw)\n",
    "\n",
    "#Check info\n",
    "kershaw.info()"
   ]
  },
  {
   "cell_type": "markdown",
   "metadata": {},
   "source": [
    "There is still some missing PitchF/x data, but I'm going to leave it here for now because removing it would affect the next two features."
   ]
  },
  {
   "cell_type": "markdown",
   "metadata": {},
   "source": [
    "### Feature Engineering: Times through order\n",
    "\n",
    "An input I want to capture is the number of times the pitcher has gone through the batting order. 'The Book' by Tango et al. shows that batters gain an advantage on a starting pitcher as the game goes on. This is likely partly due to fatigue of the pitcher, but it could also be that as they face the pitcher more, they learn more about his tendencies. Thus, a pitcher has incentive to change his pitch selection or sequencing each additional time he faces a batter.  "
   ]
  },
  {
   "cell_type": "code",
   "execution_count": 34,
   "metadata": {},
   "outputs": [
    {
     "data": {
      "text/html": [
       "<div>\n",
       "<style scoped>\n",
       "    .dataframe tbody tr th:only-of-type {\n",
       "        vertical-align: middle;\n",
       "    }\n",
       "\n",
       "    .dataframe tbody tr th {\n",
       "        vertical-align: top;\n",
       "    }\n",
       "\n",
       "    .dataframe thead th {\n",
       "        text-align: right;\n",
       "    }\n",
       "</style>\n",
       "<table border=\"1\" class=\"dataframe\">\n",
       "  <thead>\n",
       "    <tr style=\"text-align: right;\">\n",
       "      <th></th>\n",
       "      <th>pitcher_name</th>\n",
       "      <th>stand</th>\n",
       "      <th>count</th>\n",
       "      <th>px</th>\n",
       "      <th>pz</th>\n",
       "      <th>pitch_type</th>\n",
       "      <th>on_1b</th>\n",
       "      <th>on_2b</th>\n",
       "      <th>on_3b</th>\n",
       "      <th>num</th>\n",
       "      <th>gameday_link</th>\n",
       "      <th>tto</th>\n",
       "      <th>prev_pitch</th>\n",
       "      <th>balls</th>\n",
       "      <th>strikes</th>\n",
       "    </tr>\n",
       "  </thead>\n",
       "  <tbody>\n",
       "    <tr>\n",
       "      <th>0</th>\n",
       "      <td>Clayton Kershaw</td>\n",
       "      <td>R</td>\n",
       "      <td>0-0</td>\n",
       "      <td>-0.903222</td>\n",
       "      <td>2.579589</td>\n",
       "      <td>FF</td>\n",
       "      <td>0.0</td>\n",
       "      <td>0.0</td>\n",
       "      <td>1.0</td>\n",
       "      <td>22.0</td>\n",
       "      <td>gid_2017_04_08_lanmlb_colmlb_1</td>\n",
       "      <td>1.0</td>\n",
       "      <td>First Pitch</td>\n",
       "      <td>0</td>\n",
       "      <td>0</td>\n",
       "    </tr>\n",
       "    <tr>\n",
       "      <th>1</th>\n",
       "      <td>Clayton Kershaw</td>\n",
       "      <td>R</td>\n",
       "      <td>0-0</td>\n",
       "      <td>-0.896615</td>\n",
       "      <td>2.162837</td>\n",
       "      <td>FF</td>\n",
       "      <td>1.0</td>\n",
       "      <td>1.0</td>\n",
       "      <td>0.0</td>\n",
       "      <td>32.0</td>\n",
       "      <td>gid_2017_04_08_lanmlb_colmlb_1</td>\n",
       "      <td>1.0</td>\n",
       "      <td>First Pitch</td>\n",
       "      <td>0</td>\n",
       "      <td>0</td>\n",
       "    </tr>\n",
       "    <tr>\n",
       "      <th>2</th>\n",
       "      <td>Clayton Kershaw</td>\n",
       "      <td>R</td>\n",
       "      <td>1-1</td>\n",
       "      <td>-0.756494</td>\n",
       "      <td>2.526617</td>\n",
       "      <td>FF</td>\n",
       "      <td>1.0</td>\n",
       "      <td>1.0</td>\n",
       "      <td>0.0</td>\n",
       "      <td>32.0</td>\n",
       "      <td>gid_2017_04_08_lanmlb_colmlb_1</td>\n",
       "      <td>1.0</td>\n",
       "      <td>FF</td>\n",
       "      <td>1</td>\n",
       "      <td>1</td>\n",
       "    </tr>\n",
       "    <tr>\n",
       "      <th>3</th>\n",
       "      <td>Clayton Kershaw</td>\n",
       "      <td>R</td>\n",
       "      <td>0-1</td>\n",
       "      <td>0.325779</td>\n",
       "      <td>0.686945</td>\n",
       "      <td>SL</td>\n",
       "      <td>1.0</td>\n",
       "      <td>1.0</td>\n",
       "      <td>0.0</td>\n",
       "      <td>32.0</td>\n",
       "      <td>gid_2017_04_08_lanmlb_colmlb_1</td>\n",
       "      <td>1.0</td>\n",
       "      <td>FF</td>\n",
       "      <td>0</td>\n",
       "      <td>1</td>\n",
       "    </tr>\n",
       "    <tr>\n",
       "      <th>4</th>\n",
       "      <td>Clayton Kershaw</td>\n",
       "      <td>R</td>\n",
       "      <td>0-0</td>\n",
       "      <td>-0.154359</td>\n",
       "      <td>1.404650</td>\n",
       "      <td>SL</td>\n",
       "      <td>0.0</td>\n",
       "      <td>0.0</td>\n",
       "      <td>0.0</td>\n",
       "      <td>27.0</td>\n",
       "      <td>gid_2017_04_14_arimlb_lanmlb_1</td>\n",
       "      <td>1.0</td>\n",
       "      <td>First Pitch</td>\n",
       "      <td>0</td>\n",
       "      <td>0</td>\n",
       "    </tr>\n",
       "  </tbody>\n",
       "</table>\n",
       "</div>"
      ],
      "text/plain": [
       "      pitcher_name stand count        px        pz pitch_type  on_1b  on_2b  \\\n",
       "0  Clayton Kershaw     R   0-0 -0.903222  2.579589         FF    0.0    0.0   \n",
       "1  Clayton Kershaw     R   0-0 -0.896615  2.162837         FF    1.0    1.0   \n",
       "2  Clayton Kershaw     R   1-1 -0.756494  2.526617         FF    1.0    1.0   \n",
       "3  Clayton Kershaw     R   0-1  0.325779  0.686945         SL    1.0    1.0   \n",
       "4  Clayton Kershaw     R   0-0 -0.154359  1.404650         SL    0.0    0.0   \n",
       "\n",
       "   on_3b   num                    gameday_link  tto   prev_pitch balls strikes  \n",
       "0    1.0  22.0  gid_2017_04_08_lanmlb_colmlb_1  1.0  First Pitch     0       0  \n",
       "1    0.0  32.0  gid_2017_04_08_lanmlb_colmlb_1  1.0  First Pitch     0       0  \n",
       "2    0.0  32.0  gid_2017_04_08_lanmlb_colmlb_1  1.0           FF     1       1  \n",
       "3    0.0  32.0  gid_2017_04_08_lanmlb_colmlb_1  1.0           FF     0       1  \n",
       "4    0.0  27.0  gid_2017_04_14_arimlb_lanmlb_1  1.0  First Pitch     0       0  "
      ]
     },
     "execution_count": 34,
     "metadata": {},
     "output_type": "execute_result"
    }
   ],
   "source": [
    "#Add a 'tto' columns to dataframe\n",
    "\n",
    "def compute_tto(df):\n",
    "    df['tto'] = np.zeros(len(df))\n",
    "    active_game = df['gameday_link'].iloc[0]\n",
    "    active_ab = df['num'].iloc[0]\n",
    "    ab = 1\n",
    "    tto = 1\n",
    "    for i in range(len(df)):\n",
    "        current_game = df['gameday_link'].iloc[i]\n",
    "        current_ab = df['num'].iloc[i]\n",
    "        if (current_game != active_game):\n",
    "            active_game = current_game\n",
    "            ab = 1\n",
    "            tto = 1\n",
    "            df['tto'].iloc[i] = tto\n",
    "        elif (current_ab != active_ab):\n",
    "            active_ab = current_ab\n",
    "            ab += 1\n",
    "            if (ab <= 9):\n",
    "                df['tto'].iloc[i] = tto\n",
    "            elif (ab <= 18):\n",
    "                tto = 2\n",
    "                df['tto'].iloc[i] = tto\n",
    "            else: \n",
    "                tto = 3\n",
    "                df['tto'].iloc[i] = tto\n",
    "        else:\n",
    "            df['tto'].iloc[i] = tto\n",
    "    return df\n",
    "\n",
    "kershaw = compute_tto(kershaw)\n",
    "kershaw.head()"
   ]
  },
  {
   "cell_type": "markdown",
   "metadata": {},
   "source": [
    "### Feature Engineering: Previous Pitch Thrown\n",
    "\n",
    "I'd also like to capture the previous pitch thrown, in case the pitcher has any tendencies to now throw a pitch multiple times in a row. Recall, however, that I previously dropped a few rows of data with unknown pitch information.\n",
    "Using the method below, not having this data will result in misattributed previous pitches. I'll recreate the dataframe with the missing data, create the previous pitch column, then filter out the missing data. "
   ]
  },
  {
   "cell_type": "code",
   "execution_count": 35,
   "metadata": {},
   "outputs": [],
   "source": [
    "def prev_pitches(df):\n",
    "    df['prev_pitch'] = np.zeros(len(df))\n",
    "    for i in range(len(df)):\n",
    "        if df['count'].iloc[i] == '0-0':\n",
    "            df['prev_pitch'].iloc[i] = 'First Pitch'\n",
    "        else:\n",
    "            df['prev_pitch'].iloc[i] = df['pitch_type'].iloc[i-1]\n",
    "    return df\n",
    "\n",
    "kershaw = prev_pitches(kershaw)"
   ]
  },
  {
   "cell_type": "markdown",
   "metadata": {},
   "source": [
    "### Feature Engineering: Balls and Strikes\n",
    "\n",
    "Lastly, I want to use the count column to get individual balls and strikes columns. This is so that I can capture the effect on pitch selection in 3-ball and 2-strike situations, regardless of the rest of the count."
   ]
  },
  {
   "cell_type": "code",
   "execution_count": 36,
   "metadata": {},
   "outputs": [
    {
     "data": {
      "text/html": [
       "<div>\n",
       "<style scoped>\n",
       "    .dataframe tbody tr th:only-of-type {\n",
       "        vertical-align: middle;\n",
       "    }\n",
       "\n",
       "    .dataframe tbody tr th {\n",
       "        vertical-align: top;\n",
       "    }\n",
       "\n",
       "    .dataframe thead th {\n",
       "        text-align: right;\n",
       "    }\n",
       "</style>\n",
       "<table border=\"1\" class=\"dataframe\">\n",
       "  <thead>\n",
       "    <tr style=\"text-align: right;\">\n",
       "      <th></th>\n",
       "      <th>pitcher_name</th>\n",
       "      <th>stand</th>\n",
       "      <th>count</th>\n",
       "      <th>px</th>\n",
       "      <th>pz</th>\n",
       "      <th>pitch_type</th>\n",
       "      <th>on_1b</th>\n",
       "      <th>on_2b</th>\n",
       "      <th>on_3b</th>\n",
       "      <th>num</th>\n",
       "      <th>gameday_link</th>\n",
       "      <th>tto</th>\n",
       "      <th>prev_pitch</th>\n",
       "      <th>balls</th>\n",
       "      <th>strikes</th>\n",
       "    </tr>\n",
       "  </thead>\n",
       "  <tbody>\n",
       "    <tr>\n",
       "      <th>0</th>\n",
       "      <td>Clayton Kershaw</td>\n",
       "      <td>R</td>\n",
       "      <td>0-0</td>\n",
       "      <td>-0.903222</td>\n",
       "      <td>2.579589</td>\n",
       "      <td>FF</td>\n",
       "      <td>0.0</td>\n",
       "      <td>0.0</td>\n",
       "      <td>1.0</td>\n",
       "      <td>22.0</td>\n",
       "      <td>gid_2017_04_08_lanmlb_colmlb_1</td>\n",
       "      <td>1.0</td>\n",
       "      <td>First Pitch</td>\n",
       "      <td>0</td>\n",
       "      <td>0</td>\n",
       "    </tr>\n",
       "    <tr>\n",
       "      <th>1</th>\n",
       "      <td>Clayton Kershaw</td>\n",
       "      <td>R</td>\n",
       "      <td>0-0</td>\n",
       "      <td>-0.896615</td>\n",
       "      <td>2.162837</td>\n",
       "      <td>FF</td>\n",
       "      <td>1.0</td>\n",
       "      <td>1.0</td>\n",
       "      <td>0.0</td>\n",
       "      <td>32.0</td>\n",
       "      <td>gid_2017_04_08_lanmlb_colmlb_1</td>\n",
       "      <td>1.0</td>\n",
       "      <td>First Pitch</td>\n",
       "      <td>0</td>\n",
       "      <td>0</td>\n",
       "    </tr>\n",
       "    <tr>\n",
       "      <th>2</th>\n",
       "      <td>Clayton Kershaw</td>\n",
       "      <td>R</td>\n",
       "      <td>1-1</td>\n",
       "      <td>-0.756494</td>\n",
       "      <td>2.526617</td>\n",
       "      <td>FF</td>\n",
       "      <td>1.0</td>\n",
       "      <td>1.0</td>\n",
       "      <td>0.0</td>\n",
       "      <td>32.0</td>\n",
       "      <td>gid_2017_04_08_lanmlb_colmlb_1</td>\n",
       "      <td>1.0</td>\n",
       "      <td>FF</td>\n",
       "      <td>1</td>\n",
       "      <td>1</td>\n",
       "    </tr>\n",
       "    <tr>\n",
       "      <th>3</th>\n",
       "      <td>Clayton Kershaw</td>\n",
       "      <td>R</td>\n",
       "      <td>0-1</td>\n",
       "      <td>0.325779</td>\n",
       "      <td>0.686945</td>\n",
       "      <td>SL</td>\n",
       "      <td>1.0</td>\n",
       "      <td>1.0</td>\n",
       "      <td>0.0</td>\n",
       "      <td>32.0</td>\n",
       "      <td>gid_2017_04_08_lanmlb_colmlb_1</td>\n",
       "      <td>1.0</td>\n",
       "      <td>FF</td>\n",
       "      <td>0</td>\n",
       "      <td>1</td>\n",
       "    </tr>\n",
       "    <tr>\n",
       "      <th>4</th>\n",
       "      <td>Clayton Kershaw</td>\n",
       "      <td>R</td>\n",
       "      <td>0-0</td>\n",
       "      <td>-0.154359</td>\n",
       "      <td>1.404650</td>\n",
       "      <td>SL</td>\n",
       "      <td>0.0</td>\n",
       "      <td>0.0</td>\n",
       "      <td>0.0</td>\n",
       "      <td>27.0</td>\n",
       "      <td>gid_2017_04_14_arimlb_lanmlb_1</td>\n",
       "      <td>1.0</td>\n",
       "      <td>First Pitch</td>\n",
       "      <td>0</td>\n",
       "      <td>0</td>\n",
       "    </tr>\n",
       "  </tbody>\n",
       "</table>\n",
       "</div>"
      ],
      "text/plain": [
       "      pitcher_name stand count        px        pz pitch_type  on_1b  on_2b  \\\n",
       "0  Clayton Kershaw     R   0-0 -0.903222  2.579589         FF    0.0    0.0   \n",
       "1  Clayton Kershaw     R   0-0 -0.896615  2.162837         FF    1.0    1.0   \n",
       "2  Clayton Kershaw     R   1-1 -0.756494  2.526617         FF    1.0    1.0   \n",
       "3  Clayton Kershaw     R   0-1  0.325779  0.686945         SL    1.0    1.0   \n",
       "4  Clayton Kershaw     R   0-0 -0.154359  1.404650         SL    0.0    0.0   \n",
       "\n",
       "   on_3b   num                    gameday_link  tto   prev_pitch balls strikes  \n",
       "0    1.0  22.0  gid_2017_04_08_lanmlb_colmlb_1  1.0  First Pitch     0       0  \n",
       "1    0.0  32.0  gid_2017_04_08_lanmlb_colmlb_1  1.0  First Pitch     0       0  \n",
       "2    0.0  32.0  gid_2017_04_08_lanmlb_colmlb_1  1.0           FF     1       1  \n",
       "3    0.0  32.0  gid_2017_04_08_lanmlb_colmlb_1  1.0           FF     0       1  \n",
       "4    0.0  27.0  gid_2017_04_14_arimlb_lanmlb_1  1.0  First Pitch     0       0  "
      ]
     },
     "execution_count": 36,
     "metadata": {},
     "output_type": "execute_result"
    }
   ],
   "source": [
    "#Create separate balls and strikes columns\n",
    "\n",
    "def split_count(df):\n",
    "    df['balls'] = df['count'].apply(lambda x: x.split('-')[0])\n",
    "    df['strikes'] = df['count'].apply(lambda x: x.split('-')[1])\n",
    "    return df\n",
    "\n",
    "kershaw = split_count(kershaw)\n",
    "kershaw.head()"
   ]
  },
  {
   "cell_type": "markdown",
   "metadata": {},
   "source": [
    "Finally, I need to drop the rows with NAs"
   ]
  },
  {
   "cell_type": "code",
   "execution_count": 37,
   "metadata": {},
   "outputs": [],
   "source": [
    "def drop_nas(df):\n",
    "    df = df.dropna()\n",
    "    return df\n",
    "\n",
    "kershaw = drop_nas(kershaw)"
   ]
  },
  {
   "cell_type": "markdown",
   "metadata": {},
   "source": [
    "## Exploratory Data Analysis\n",
    "\n",
    "Let's do some exploratory analysis to see what our best predictors might be"
   ]
  },
  {
   "cell_type": "code",
   "execution_count": 38,
   "metadata": {},
   "outputs": [],
   "source": [
    "#Define some helper functions\n",
    "\n",
    "def plot_pitch_dist(df):\n",
    "    sns.countplot(df['pitch_type'])\n",
    "    \n",
    "def pitch_splits(df, split_by = None):\n",
    "    '''\n",
    "    Creates a pitch type proportion table based on given split_arg.\n",
    "    Split args can be:\n",
    "    - 'stand': batter handedness\n",
    "    - 'count': count in at bat\n",
    "    - 'balls': number of balls\n",
    "    - 'strikes': number of strikes\n",
    "    - 'on_1b': Man on 1st or not\n",
    "    - 'on_2b': Man on 2nd or not\n",
    "    - 'on_3b': Man on 3rd or not\n",
    "    - 'tto': Times through the batting order\n",
    "    '''\n",
    "    if (split_by is not None):\n",
    "        splits = pd.crosstab(index = df['pitch_type'], columns = df[split_by], normalize = 'columns')\n",
    "    else:\n",
    "        splits = pd.DataFrame(df['pitch_type'].value_counts()/sum(df['pitch_type'].value_counts()))\n",
    "    return splits\n",
    "    \n",
    "def plot_pitch_loc(df, split_by = None):\n",
    "    '''\n",
    "    Creates plots for of pitch type and location based on given split_arg. \n",
    "    Split args can be:\n",
    "    - 'stand': batter handedness\n",
    "    - 'count': count in at bat\n",
    "    - 'balls': number of balls\n",
    "    - 'strikes': number of strikes\n",
    "    - 'on_1b': Man on 1st or not\n",
    "    - 'on_2b': Man on 2nd or not\n",
    "    - 'on_3b': Man on 3rd or not\n",
    "    - 'tto': Times through the batting order\n",
    "    '''\n",
    "    sns.lmplot(x = 'px', y = 'pz', data = df, fit_reg = False, hue = 'pitch_type', \n",
    "               scatter_kws = {'alpha':0.7}, col = split_by, col_wrap = 2)\n",
    "    "
   ]
  },
  {
   "cell_type": "markdown",
   "metadata": {},
   "source": [
    "First let's take a look at kershaw's overall pitch counts"
   ]
  },
  {
   "cell_type": "code",
   "execution_count": 39,
   "metadata": {},
   "outputs": [
    {
     "name": "stdout",
     "output_type": "stream",
     "text": [
      "    pitch_type\n",
      "FF    0.454844\n",
      "SL    0.354269\n",
      "CU    0.169130\n",
      "FT    0.011905\n",
      "CH    0.009852\n"
     ]
    },
    {
     "data": {
      "image/png": "[encoded data removed]",
      "text/plain": [
       "<matplotlib.figure.Figure at 0x1060534a8>"
      ]
     },
     "metadata": {
      "needs_background": "light"
     },
     "output_type": "display_data"
    }
   ],
   "source": [
    "plot_pitch_dist(kershaw)\n",
    "print(pitch_splits(kershaw))"
   ]
  },
  {
   "cell_type": "markdown",
   "metadata": {},
   "source": [
    "We see that Kershaw threw 5 different pitches in 2017. Per [Fangraphs](https://www.fangraphs.com/library/pitch-type-abbreviations-classifications/), here are the pitches the PitchF/x abbreviations correspond to:\n",
    "\n",
    "- FF: Four-seam fastball\n",
    "- SL: Slider\n",
    "- FT: Two-seam fastball\n",
    "- CH: Changeup\n",
    "- CU: Curveball\n",
    "\n",
    "He almost never threw his changeup or two-seam fastball, with both coming in around 1% usage. For that reason I'm rarely going to reference them when looking at splits data, since a small number of pitches will drastically change their perceived likelihood of being thrown. Let's see how his pitch selection breaks down by batter handedness. "
   ]
  },
  {
   "cell_type": "code",
   "execution_count": 40,
   "metadata": {},
   "outputs": [
    {
     "name": "stdout",
     "output_type": "stream",
     "text": [
      "stand              L         R\n",
      "pitch_type                    \n",
      "CH          0.000000  0.012384\n",
      "CU          0.138554  0.176987\n",
      "FF          0.538153  0.433437\n",
      "FT          0.036145  0.005676\n",
      "SL          0.287149  0.371517\n"
     ]
    },
    {
     "data": {
      "image/png": "[encoded data removed]",
      "text/plain": [
       "<matplotlib.figure.Figure at 0x1a19385e80>"
      ]
     },
     "metadata": {
      "needs_background": "light"
     },
     "output_type": "display_data"
    }
   ],
   "source": [
    "plot_pitch_loc(kershaw, 'stand')\n",
    "print(pitch_splits(kershaw, 'stand'))"
   ]
  },
  {
   "cell_type": "markdown",
   "metadata": {},
   "source": [
    "The sample size against left-handed batters is (predictably) much smaller than the right handed matchup. With that caveat, the biggest changes in his pitch selection appear to be in his four-seamer and slider. He was almost 10% more likley to throw a slider against a righty, and 10% less likely to throw a four-seamer. There's also a slight uptick in his curveball usage against righties. \n",
    "\n",
    "Now let's look at time through the batting order. (For the remainder of the analysis I'm only going to look at the table to save space)"
   ]
  },
  {
   "cell_type": "code",
   "execution_count": 41,
   "metadata": {},
   "outputs": [
    {
     "name": "stdout",
     "output_type": "stream",
     "text": [
      "tto              1.0       2.0       3.0\n",
      "pitch_type                              \n",
      "CH          0.010261  0.000000  0.000000\n",
      "CU          0.171013  0.118421  0.142857\n",
      "FF          0.453185  0.500000  0.476190\n",
      "FT          0.012398  0.000000  0.000000\n",
      "SL          0.353142  0.381579  0.380952\n"
     ]
    }
   ],
   "source": [
    "print(pitch_splits(kershaw, 'tto'))"
   ]
  },
  {
   "cell_type": "markdown",
   "metadata": {},
   "source": [
    "The table actually shows a pretty distinct pattern. Kershaw's likelihood of throwing a four-seamer dropped significantly each time through the order, while the likelihood of each of his other pitches increased.\n",
    "\n",
    "Let's look at balls and strikes now. "
   ]
  },
  {
   "cell_type": "code",
   "execution_count": 42,
   "metadata": {},
   "outputs": [
    {
     "name": "stdout",
     "output_type": "stream",
     "text": [
      "balls              0         1         2         3\n",
      "pitch_type                                        \n",
      "CH          0.016584  0.005626  0.000000  0.000000\n",
      "CU          0.188226  0.182841  0.139785  0.020408\n",
      "FF          0.494196  0.398031  0.405914  0.530612\n",
      "FT          0.013267  0.011252  0.013441  0.000000\n",
      "SL          0.287728  0.402250  0.440860  0.448980\n"
     ]
    }
   ],
   "source": [
    "print(pitch_splits(kershaw, 'balls'))"
   ]
  },
  {
   "cell_type": "markdown",
   "metadata": {},
   "source": [
    "The biggest takeaways here are that he almost never threw his curveball on 3 balls and that his slider usage jumped significantly on counts with non-zero balls. "
   ]
  },
  {
   "cell_type": "code",
   "execution_count": 43,
   "metadata": {},
   "outputs": [
    {
     "name": "stdout",
     "output_type": "stream",
     "text": [
      "strikes            0         1         2\n",
      "pitch_type                              \n",
      "CH          0.001087  0.030223  0.000000\n",
      "CU          0.047826  0.270696  0.214570\n",
      "FF          0.611957  0.344284  0.374834\n",
      "FT          0.005435  0.013141  0.018543\n",
      "SL          0.333696  0.341656  0.392053\n"
     ]
    }
   ],
   "source": [
    "print(pitch_splits(kershaw, 'strikes'))"
   ]
  },
  {
   "cell_type": "markdown",
   "metadata": {},
   "source": [
    "Here we see Kershaw sacrificing his four-seamer for curveballs on counts with 1 or 2 strikes. There's also a slight uptick in slider usage as the number of strikes increases. \n",
    "\n",
    "Let's see if there is anything to be found in his previous pitch data. "
   ]
  },
  {
   "cell_type": "code",
   "execution_count": 44,
   "metadata": {},
   "outputs": [
    {
     "name": "stdout",
     "output_type": "stream",
     "text": [
      "prev_pitch        CH        CU        FF        FT  First Pitch        SL\n",
      "pitch_type                                                               \n",
      "CH          0.000000  0.010453  0.018428  0.000000     0.000000  0.009375\n",
      "CU          0.000000  0.219512  0.176904  0.263158     0.066768  0.243750\n",
      "FF          0.647059  0.386760  0.406634  0.210526     0.641882  0.356250\n",
      "FT          0.000000  0.020906  0.012285  0.105263     0.006070  0.010937\n",
      "SL          0.352941  0.362369  0.385749  0.421053     0.285281  0.379688\n"
     ]
    }
   ],
   "source": [
    "print(pitch_splits(kershaw, 'prev_pitch'))"
   ]
  },
  {
   "cell_type": "markdown",
   "metadata": {},
   "source": [
    "There are two main things to note here. The first is his first pitch percentages. He almost never threw his curveball while throwing his four-seamer and slider 64 and 29 percent of the time, respectively. The second is his pitch selection after throwing a slider. His curveball, which he threw ~17% of the time overall, jumps up to 25%, while his four-seamer drops from ~46% to ~37%.  \n",
    "\n",
    "Let's take a look at the on-base effects:"
   ]
  },
  {
   "cell_type": "code",
   "execution_count": 45,
   "metadata": {},
   "outputs": [
    {
     "name": "stdout",
     "output_type": "stream",
     "text": [
      "on_1b            0.0       1.0\n",
      "pitch_type                    \n",
      "CH          0.012541  0.001661\n",
      "CU          0.172846  0.157807\n",
      "FF          0.464013  0.426910\n",
      "FT          0.013086  0.008306\n",
      "SL          0.337514  0.405316\n",
      "on_2b            0.0       1.0\n",
      "pitch_type                    \n",
      "CH          0.011516  0.000000\n",
      "CU          0.175144  0.133523\n",
      "FF          0.467850  0.377841\n",
      "FT          0.011996  0.011364\n",
      "SL          0.333493  0.477273\n",
      "on_3b            0.0       1.0\n",
      "pitch_type                    \n",
      "CH          0.010471  0.000000\n",
      "CU          0.171902  0.125000\n",
      "FF          0.453752  0.472222\n",
      "FT          0.011344  0.020833\n",
      "SL          0.352531  0.381944\n"
     ]
    }
   ],
   "source": [
    "print(pitch_splits(kershaw, 'on_1b'))\n",
    "print(pitch_splits(kershaw, 'on_2b'))\n",
    "print(pitch_splits(kershaw, 'on_3b'))"
   ]
  },
  {
   "cell_type": "markdown",
   "metadata": {},
   "source": [
    "What I find most interesting here is the increased use of his slider with a man on 1st or 2nd. \n",
    "\n",
    "Alright, let's get into the actual model building."
   ]
  },
  {
   "cell_type": "markdown",
   "metadata": {},
   "source": [
    "## Pitch Prediciton Model\n",
    "\n",
    "I'll use a logistic regression model to perform the actual pitch prediction. I'll test both one-vs-rest and multinomial methods to solve for the fact that this is a multi-class classification problem. \n",
    "\n",
    "### Preparing the Data\n",
    "\n",
    "There are a few data preparation steps required before training a model. \n",
    "\n",
    "1. Separate the dependent variable (pitch_type)\n",
    "2. Decide what columns to use for initial model, remove the remainder\n",
    "3. Encode any categorical variables\n",
    "4. Split the data into testing and training sets\n",
    "\n",
    "For my initial model, the predictor variables I'm going to use are:\n",
    "- Batter handedness: 'stand'\n",
    "- Men on base: 'on_1b', 'on_2b', 'on_3b'\n",
    "- Balls: 'balls'\n",
    "- Strikes: 'strikes'\n",
    "- Times-through-order: 'tto\n",
    "- Previous pitch: 'prev_pitch'"
   ]
  },
  {
   "cell_type": "code",
   "execution_count": 46,
   "metadata": {},
   "outputs": [],
   "source": [
    "#Split off pitch_type\n",
    "def split_x_y(df):\n",
    "    y = df['pitch_type']\n",
    "    x = df.drop(['pitch_type'], axis = 1)\n",
    "    return x, y\n",
    "\n",
    "#Drop unwated columns\n",
    "def drop_cols(df, columns):\n",
    "    df = df.drop(columns, axis = 1)\n",
    "    return df\n",
    "\n",
    "x, y = split_x_y(kershaw)\n",
    "cols_to_drop = ['pitcher_name','count','px','pz','gameday_link','num']\n",
    "x = drop_cols(x, cols_to_drop)"
   ]
  },
  {
   "cell_type": "markdown",
   "metadata": {},
   "source": [
    "All of my predictors are categorical. I'll use pandas 'get_dummies' to one-hot encode them. "
   ]
  },
  {
   "cell_type": "code",
   "execution_count": 47,
   "metadata": {},
   "outputs": [
    {
     "data": {
      "text/html": [
       "<div>\n",
       "<style scoped>\n",
       "    .dataframe tbody tr th:only-of-type {\n",
       "        vertical-align: middle;\n",
       "    }\n",
       "\n",
       "    .dataframe tbody tr th {\n",
       "        vertical-align: top;\n",
       "    }\n",
       "\n",
       "    .dataframe thead th {\n",
       "        text-align: right;\n",
       "    }\n",
       "</style>\n",
       "<table border=\"1\" class=\"dataframe\">\n",
       "  <thead>\n",
       "    <tr style=\"text-align: right;\">\n",
       "      <th></th>\n",
       "      <th>stand</th>\n",
       "      <th>on_1b</th>\n",
       "      <th>on_2b</th>\n",
       "      <th>on_3b</th>\n",
       "      <th>tto</th>\n",
       "      <th>prev_pitch</th>\n",
       "      <th>balls</th>\n",
       "      <th>strikes</th>\n",
       "    </tr>\n",
       "  </thead>\n",
       "  <tbody>\n",
       "    <tr>\n",
       "      <th>0</th>\n",
       "      <td>R</td>\n",
       "      <td>0.0</td>\n",
       "      <td>0.0</td>\n",
       "      <td>1.0</td>\n",
       "      <td>1.0</td>\n",
       "      <td>First Pitch</td>\n",
       "      <td>0</td>\n",
       "      <td>0</td>\n",
       "    </tr>\n",
       "    <tr>\n",
       "      <th>1</th>\n",
       "      <td>R</td>\n",
       "      <td>1.0</td>\n",
       "      <td>1.0</td>\n",
       "      <td>0.0</td>\n",
       "      <td>1.0</td>\n",
       "      <td>First Pitch</td>\n",
       "      <td>0</td>\n",
       "      <td>0</td>\n",
       "    </tr>\n",
       "    <tr>\n",
       "      <th>2</th>\n",
       "      <td>R</td>\n",
       "      <td>1.0</td>\n",
       "      <td>1.0</td>\n",
       "      <td>0.0</td>\n",
       "      <td>1.0</td>\n",
       "      <td>FF</td>\n",
       "      <td>1</td>\n",
       "      <td>1</td>\n",
       "    </tr>\n",
       "    <tr>\n",
       "      <th>3</th>\n",
       "      <td>R</td>\n",
       "      <td>1.0</td>\n",
       "      <td>1.0</td>\n",
       "      <td>0.0</td>\n",
       "      <td>1.0</td>\n",
       "      <td>FF</td>\n",
       "      <td>0</td>\n",
       "      <td>1</td>\n",
       "    </tr>\n",
       "    <tr>\n",
       "      <th>4</th>\n",
       "      <td>R</td>\n",
       "      <td>0.0</td>\n",
       "      <td>0.0</td>\n",
       "      <td>0.0</td>\n",
       "      <td>1.0</td>\n",
       "      <td>First Pitch</td>\n",
       "      <td>0</td>\n",
       "      <td>0</td>\n",
       "    </tr>\n",
       "  </tbody>\n",
       "</table>\n",
       "</div>"
      ],
      "text/plain": [
       "  stand  on_1b  on_2b  on_3b  tto   prev_pitch balls strikes\n",
       "0     R    0.0    0.0    1.0  1.0  First Pitch     0       0\n",
       "1     R    1.0    1.0    0.0  1.0  First Pitch     0       0\n",
       "2     R    1.0    1.0    0.0  1.0           FF     1       1\n",
       "3     R    1.0    1.0    0.0  1.0           FF     0       1\n",
       "4     R    0.0    0.0    0.0  1.0  First Pitch     0       0"
      ]
     },
     "execution_count": 47,
     "metadata": {},
     "output_type": "execute_result"
    }
   ],
   "source": [
    "x.head()"
   ]
  },
  {
   "cell_type": "code",
   "execution_count": 48,
   "metadata": {},
   "outputs": [],
   "source": [
    "x = pd.get_dummies(x, columns = x.columns.tolist())"
   ]
  },
  {
   "cell_type": "code",
   "execution_count": 49,
   "metadata": {},
   "outputs": [
    {
     "data": {
      "text/html": [
       "<div>\n",
       "<style scoped>\n",
       "    .dataframe tbody tr th:only-of-type {\n",
       "        vertical-align: middle;\n",
       "    }\n",
       "\n",
       "    .dataframe tbody tr th {\n",
       "        vertical-align: top;\n",
       "    }\n",
       "\n",
       "    .dataframe thead th {\n",
       "        text-align: right;\n",
       "    }\n",
       "</style>\n",
       "<table border=\"1\" class=\"dataframe\">\n",
       "  <thead>\n",
       "    <tr style=\"text-align: right;\">\n",
       "      <th></th>\n",
       "      <th>stand_L</th>\n",
       "      <th>stand_R</th>\n",
       "      <th>on_1b_0.0</th>\n",
       "      <th>on_1b_1.0</th>\n",
       "      <th>on_2b_0.0</th>\n",
       "      <th>on_2b_1.0</th>\n",
       "      <th>on_3b_0.0</th>\n",
       "      <th>on_3b_1.0</th>\n",
       "      <th>tto_1.0</th>\n",
       "      <th>tto_2.0</th>\n",
       "      <th>...</th>\n",
       "      <th>prev_pitch_FT</th>\n",
       "      <th>prev_pitch_First Pitch</th>\n",
       "      <th>prev_pitch_SL</th>\n",
       "      <th>balls_0</th>\n",
       "      <th>balls_1</th>\n",
       "      <th>balls_2</th>\n",
       "      <th>balls_3</th>\n",
       "      <th>strikes_0</th>\n",
       "      <th>strikes_1</th>\n",
       "      <th>strikes_2</th>\n",
       "    </tr>\n",
       "  </thead>\n",
       "  <tbody>\n",
       "    <tr>\n",
       "      <th>0</th>\n",
       "      <td>0</td>\n",
       "      <td>1</td>\n",
       "      <td>1</td>\n",
       "      <td>0</td>\n",
       "      <td>1</td>\n",
       "      <td>0</td>\n",
       "      <td>0</td>\n",
       "      <td>1</td>\n",
       "      <td>1</td>\n",
       "      <td>0</td>\n",
       "      <td>...</td>\n",
       "      <td>0</td>\n",
       "      <td>1</td>\n",
       "      <td>0</td>\n",
       "      <td>1</td>\n",
       "      <td>0</td>\n",
       "      <td>0</td>\n",
       "      <td>0</td>\n",
       "      <td>1</td>\n",
       "      <td>0</td>\n",
       "      <td>0</td>\n",
       "    </tr>\n",
       "    <tr>\n",
       "      <th>1</th>\n",
       "      <td>0</td>\n",
       "      <td>1</td>\n",
       "      <td>0</td>\n",
       "      <td>1</td>\n",
       "      <td>0</td>\n",
       "      <td>1</td>\n",
       "      <td>1</td>\n",
       "      <td>0</td>\n",
       "      <td>1</td>\n",
       "      <td>0</td>\n",
       "      <td>...</td>\n",
       "      <td>0</td>\n",
       "      <td>1</td>\n",
       "      <td>0</td>\n",
       "      <td>1</td>\n",
       "      <td>0</td>\n",
       "      <td>0</td>\n",
       "      <td>0</td>\n",
       "      <td>1</td>\n",
       "      <td>0</td>\n",
       "      <td>0</td>\n",
       "    </tr>\n",
       "    <tr>\n",
       "      <th>2</th>\n",
       "      <td>0</td>\n",
       "      <td>1</td>\n",
       "      <td>0</td>\n",
       "      <td>1</td>\n",
       "      <td>0</td>\n",
       "      <td>1</td>\n",
       "      <td>1</td>\n",
       "      <td>0</td>\n",
       "      <td>1</td>\n",
       "      <td>0</td>\n",
       "      <td>...</td>\n",
       "      <td>0</td>\n",
       "      <td>0</td>\n",
       "      <td>0</td>\n",
       "      <td>0</td>\n",
       "      <td>1</td>\n",
       "      <td>0</td>\n",
       "      <td>0</td>\n",
       "      <td>0</td>\n",
       "      <td>1</td>\n",
       "      <td>0</td>\n",
       "    </tr>\n",
       "    <tr>\n",
       "      <th>3</th>\n",
       "      <td>0</td>\n",
       "      <td>1</td>\n",
       "      <td>0</td>\n",
       "      <td>1</td>\n",
       "      <td>0</td>\n",
       "      <td>1</td>\n",
       "      <td>1</td>\n",
       "      <td>0</td>\n",
       "      <td>1</td>\n",
       "      <td>0</td>\n",
       "      <td>...</td>\n",
       "      <td>0</td>\n",
       "      <td>0</td>\n",
       "      <td>0</td>\n",
       "      <td>1</td>\n",
       "      <td>0</td>\n",
       "      <td>0</td>\n",
       "      <td>0</td>\n",
       "      <td>0</td>\n",
       "      <td>1</td>\n",
       "      <td>0</td>\n",
       "    </tr>\n",
       "    <tr>\n",
       "      <th>4</th>\n",
       "      <td>0</td>\n",
       "      <td>1</td>\n",
       "      <td>1</td>\n",
       "      <td>0</td>\n",
       "      <td>1</td>\n",
       "      <td>0</td>\n",
       "      <td>1</td>\n",
       "      <td>0</td>\n",
       "      <td>1</td>\n",
       "      <td>0</td>\n",
       "      <td>...</td>\n",
       "      <td>0</td>\n",
       "      <td>1</td>\n",
       "      <td>0</td>\n",
       "      <td>1</td>\n",
       "      <td>0</td>\n",
       "      <td>0</td>\n",
       "      <td>0</td>\n",
       "      <td>1</td>\n",
       "      <td>0</td>\n",
       "      <td>0</td>\n",
       "    </tr>\n",
       "  </tbody>\n",
       "</table>\n",
       "<p>5 rows × 24 columns</p>\n",
       "</div>"
      ],
      "text/plain": [
       "   stand_L  stand_R  on_1b_0.0  on_1b_1.0  on_2b_0.0  on_2b_1.0  on_3b_0.0  \\\n",
       "0        0        1          1          0          1          0          0   \n",
       "1        0        1          0          1          0          1          1   \n",
       "2        0        1          0          1          0          1          1   \n",
       "3        0        1          0          1          0          1          1   \n",
       "4        0        1          1          0          1          0          1   \n",
       "\n",
       "   on_3b_1.0  tto_1.0  tto_2.0  ...  prev_pitch_FT  prev_pitch_First Pitch  \\\n",
       "0          1        1        0  ...              0                       1   \n",
       "1          0        1        0  ...              0                       1   \n",
       "2          0        1        0  ...              0                       0   \n",
       "3          0        1        0  ...              0                       0   \n",
       "4          0        1        0  ...              0                       1   \n",
       "\n",
       "   prev_pitch_SL  balls_0  balls_1  balls_2  balls_3  strikes_0  strikes_1  \\\n",
       "0              0        1        0        0        0          1          0   \n",
       "1              0        1        0        0        0          1          0   \n",
       "2              0        0        1        0        0          0          1   \n",
       "3              0        1        0        0        0          0          1   \n",
       "4              0        1        0        0        0          1          0   \n",
       "\n",
       "   strikes_2  \n",
       "0          0  \n",
       "1          0  \n",
       "2          0  \n",
       "3          0  \n",
       "4          0  \n",
       "\n",
       "[5 rows x 24 columns]"
      ]
     },
     "execution_count": 49,
     "metadata": {},
     "output_type": "execute_result"
    }
   ],
   "source": [
    "x.head()"
   ]
  },
  {
   "cell_type": "markdown",
   "metadata": {},
   "source": [
    "Finally, I need to split my data into test and training sets. "
   ]
  },
  {
   "cell_type": "code",
   "execution_count": 50,
   "metadata": {},
   "outputs": [],
   "source": [
    "from sklearn.model_selection import train_test_split\n",
    "\n",
    "x_train, x_test, y_train, y_test = train_test_split(x, y, test_size=0.25, random_state=1, stratify = y)"
   ]
  },
  {
   "cell_type": "markdown",
   "metadata": {},
   "source": [
    "### Building the Model\n",
    "\n",
    "My first model will be an L2-regularized logistic regression with cross-validation using the one-vs-rest multi-classification strategy. "
   ]
  },
  {
   "cell_type": "code",
   "execution_count": 51,
   "metadata": {},
   "outputs": [
    {
     "data": {
      "text/plain": [
       "0.458128078817734"
      ]
     },
     "execution_count": 51,
     "metadata": {},
     "output_type": "execute_result"
    }
   ],
   "source": [
    "from sklearn.linear_model import LogisticRegressionCV\n",
    "\n",
    "ovr = LogisticRegressionCV(cv = 5, max_iter = 100000)\n",
    "ovr_fit = ovr.fit(x_train, y_train)\n",
    "ovr_fit.score(x_test, y_test)"
   ]
  },
  {
   "cell_type": "code",
   "execution_count": 52,
   "metadata": {},
   "outputs": [
    {
     "data": {
      "text/html": [
       "<div>\n",
       "<style scoped>\n",
       "    .dataframe tbody tr th:only-of-type {\n",
       "        vertical-align: middle;\n",
       "    }\n",
       "\n",
       "    .dataframe tbody tr th {\n",
       "        vertical-align: top;\n",
       "    }\n",
       "\n",
       "    .dataframe thead th {\n",
       "        text-align: right;\n",
       "    }\n",
       "</style>\n",
       "<table border=\"1\" class=\"dataframe\">\n",
       "  <thead>\n",
       "    <tr style=\"text-align: right;\">\n",
       "      <th>Predicted</th>\n",
       "      <th>FF</th>\n",
       "      <th>SL</th>\n",
       "    </tr>\n",
       "    <tr>\n",
       "      <th>True</th>\n",
       "      <th></th>\n",
       "      <th></th>\n",
       "    </tr>\n",
       "  </thead>\n",
       "  <tbody>\n",
       "    <tr>\n",
       "      <th>CH</th>\n",
       "      <td>5</td>\n",
       "      <td>1</td>\n",
       "    </tr>\n",
       "    <tr>\n",
       "      <th>CU</th>\n",
       "      <td>56</td>\n",
       "      <td>47</td>\n",
       "    </tr>\n",
       "    <tr>\n",
       "      <th>FF</th>\n",
       "      <td>205</td>\n",
       "      <td>72</td>\n",
       "    </tr>\n",
       "    <tr>\n",
       "      <th>FT</th>\n",
       "      <td>5</td>\n",
       "      <td>2</td>\n",
       "    </tr>\n",
       "    <tr>\n",
       "      <th>SL</th>\n",
       "      <td>142</td>\n",
       "      <td>74</td>\n",
       "    </tr>\n",
       "  </tbody>\n",
       "</table>\n",
       "</div>"
      ],
      "text/plain": [
       "Predicted   FF  SL\n",
       "True              \n",
       "CH           5   1\n",
       "CU          56  47\n",
       "FF         205  72\n",
       "FT           5   2\n",
       "SL         142  74"
      ]
     },
     "execution_count": 52,
     "metadata": {},
     "output_type": "execute_result"
    }
   ],
   "source": [
    "#Compute confusion matrix\n",
    "\n",
    "pd.crosstab(y_test, ovr_fit.predict(x_test), rownames=['True'], colnames=['Predicted'])"
   ]
  },
  {
   "cell_type": "markdown",
   "metadata": {},
   "source": [
    "Not great, the model is only predicting four-seamers and sliders. Let's see if the multinomial method does any better"
   ]
  },
  {
   "cell_type": "code",
   "execution_count": 53,
   "metadata": {},
   "outputs": [
    {
     "data": {
      "text/plain": [
       "0.47126436781609193"
      ]
     },
     "execution_count": 53,
     "metadata": {},
     "output_type": "execute_result"
    }
   ],
   "source": [
    "mn = LogisticRegressionCV(cv = 5, max_iter = 100000, multi_class = 'multinomial')\n",
    "mn_fit = mn.fit(x_train, y_train)\n",
    "mn_fit.score(x_test, y_test)"
   ]
  },
  {
   "cell_type": "code",
   "execution_count": 54,
   "metadata": {},
   "outputs": [
    {
     "data": {
      "text/html": [
       "<div>\n",
       "<style scoped>\n",
       "    .dataframe tbody tr th:only-of-type {\n",
       "        vertical-align: middle;\n",
       "    }\n",
       "\n",
       "    .dataframe tbody tr th {\n",
       "        vertical-align: top;\n",
       "    }\n",
       "\n",
       "    .dataframe thead th {\n",
       "        text-align: right;\n",
       "    }\n",
       "</style>\n",
       "<table border=\"1\" class=\"dataframe\">\n",
       "  <thead>\n",
       "    <tr style=\"text-align: right;\">\n",
       "      <th>Predicted</th>\n",
       "      <th>CU</th>\n",
       "      <th>FF</th>\n",
       "      <th>SL</th>\n",
       "    </tr>\n",
       "    <tr>\n",
       "      <th>True</th>\n",
       "      <th></th>\n",
       "      <th></th>\n",
       "      <th></th>\n",
       "    </tr>\n",
       "  </thead>\n",
       "  <tbody>\n",
       "    <tr>\n",
       "      <th>CH</th>\n",
       "      <td>2</td>\n",
       "      <td>4</td>\n",
       "      <td>0</td>\n",
       "    </tr>\n",
       "    <tr>\n",
       "      <th>CU</th>\n",
       "      <td>20</td>\n",
       "      <td>47</td>\n",
       "      <td>36</td>\n",
       "    </tr>\n",
       "    <tr>\n",
       "      <th>FF</th>\n",
       "      <td>11</td>\n",
       "      <td>198</td>\n",
       "      <td>68</td>\n",
       "    </tr>\n",
       "    <tr>\n",
       "      <th>FT</th>\n",
       "      <td>2</td>\n",
       "      <td>5</td>\n",
       "      <td>0</td>\n",
       "    </tr>\n",
       "    <tr>\n",
       "      <th>SL</th>\n",
       "      <td>12</td>\n",
       "      <td>135</td>\n",
       "      <td>69</td>\n",
       "    </tr>\n",
       "  </tbody>\n",
       "</table>\n",
       "</div>"
      ],
      "text/plain": [
       "Predicted  CU   FF  SL\n",
       "True                  \n",
       "CH          2    4   0\n",
       "CU         20   47  36\n",
       "FF         11  198  68\n",
       "FT          2    5   0\n",
       "SL         12  135  69"
      ]
     },
     "execution_count": 54,
     "metadata": {},
     "output_type": "execute_result"
    }
   ],
   "source": [
    "#Compute confusion matrix\n",
    "\n",
    "pd.crosstab(y_test, mn_fit.predict(x_test), rownames=['True'], colnames=['Predicted'])"
   ]
  },
  {
   "cell_type": "markdown",
   "metadata": {},
   "source": [
    "### Kernel SVM"
   ]
  },
  {
   "cell_type": "code",
   "execution_count": 58,
   "metadata": {},
   "outputs": [
    {
     "name": "stdout",
     "output_type": "stream",
     "text": [
      "The best parameters are {'C': 1.0, 'gamma': 0.1} with a score of 0.49\n"
     ]
    }
   ],
   "source": [
    "#RBF Kernel w/ Grid Search\n",
    "from sklearn.svm import SVC\n",
    "from sklearn.model_selection import GridSearchCV\n",
    "\n",
    "svc_rbf = SVC(kernel = 'rbf')\n",
    "params = {'C': [0.00001, 0.0001, 0.001, 0.01, 0.1, 1.0, 10, 100, 1000, 10000],\n",
    "         'gamma': [0.00001, 0.0001, 0.001, 0.01, 0.1, 1.0, 10, 100, 1000, 10000]}\n",
    "\n",
    "gscv_svc_rbf = GridSearchCV(svc_rbf, params)\n",
    "grid = gscv_svc_rbf.fit(x_train, y_train)\n",
    "\n",
    "print(\"The best parameters are %s with a score of %0.2f\"\n",
    "      % (grid.best_params_, grid.best_score_))\n"
   ]
  },
  {
   "cell_type": "code",
   "execution_count": 59,
   "metadata": {},
   "outputs": [
    {
     "data": {
      "text/html": [
       "<div>\n",
       "<style scoped>\n",
       "    .dataframe tbody tr th:only-of-type {\n",
       "        vertical-align: middle;\n",
       "    }\n",
       "\n",
       "    .dataframe tbody tr th {\n",
       "        vertical-align: top;\n",
       "    }\n",
       "\n",
       "    .dataframe thead th {\n",
       "        text-align: right;\n",
       "    }\n",
       "</style>\n",
       "<table border=\"1\" class=\"dataframe\">\n",
       "  <thead>\n",
       "    <tr style=\"text-align: right;\">\n",
       "      <th>Predicted</th>\n",
       "      <th>CU</th>\n",
       "      <th>FF</th>\n",
       "      <th>SL</th>\n",
       "    </tr>\n",
       "    <tr>\n",
       "      <th>True</th>\n",
       "      <th></th>\n",
       "      <th></th>\n",
       "      <th></th>\n",
       "    </tr>\n",
       "  </thead>\n",
       "  <tbody>\n",
       "    <tr>\n",
       "      <th>CH</th>\n",
       "      <td>6</td>\n",
       "      <td>0</td>\n",
       "      <td>0</td>\n",
       "    </tr>\n",
       "    <tr>\n",
       "      <th>CU</th>\n",
       "      <td>27</td>\n",
       "      <td>50</td>\n",
       "      <td>26</td>\n",
       "    </tr>\n",
       "    <tr>\n",
       "      <th>FF</th>\n",
       "      <td>25</td>\n",
       "      <td>191</td>\n",
       "      <td>61</td>\n",
       "    </tr>\n",
       "    <tr>\n",
       "      <th>FT</th>\n",
       "      <td>0</td>\n",
       "      <td>7</td>\n",
       "      <td>0</td>\n",
       "    </tr>\n",
       "    <tr>\n",
       "      <th>SL</th>\n",
       "      <td>18</td>\n",
       "      <td>134</td>\n",
       "      <td>64</td>\n",
       "    </tr>\n",
       "  </tbody>\n",
       "</table>\n",
       "</div>"
      ],
      "text/plain": [
       "Predicted  CU   FF  SL\n",
       "True                  \n",
       "CH          6    0   0\n",
       "CU         27   50  26\n",
       "FF         25  191  61\n",
       "FT          0    7   0\n",
       "SL         18  134  64"
      ]
     },
     "execution_count": 59,
     "metadata": {},
     "output_type": "execute_result"
    }
   ],
   "source": [
    "pd.crosstab(y_test, grid.predict(x_test), rownames=['True'], colnames=['Predicted'])"
   ]
  },
  {
   "cell_type": "markdown",
   "metadata": {},
   "source": [
    "### Random Forest"
   ]
  },
  {
   "cell_type": "code",
   "execution_count": 60,
   "metadata": {},
   "outputs": [],
   "source": [
    "from sklearn.ensemble import RandomForestClassifier"
   ]
  },
  {
   "cell_type": "code",
   "execution_count": 70,
   "metadata": {},
   "outputs": [
    {
     "data": {
      "text/plain": [
       "0.4696223316912972"
      ]
     },
     "execution_count": 70,
     "metadata": {},
     "output_type": "execute_result"
    }
   ],
   "source": [
    "rfc_default = RandomForestClassifier(n_estimators = 100)\n",
    "rfc_default_fit = rfc_default.fit(x_train, y_train)\n",
    "rfc_default_fit.score(x_test, y_test)"
   ]
  },
  {
   "cell_type": "code",
   "execution_count": 71,
   "metadata": {},
   "outputs": [
    {
     "data": {
      "text/html": [
       "<div>\n",
       "<style scoped>\n",
       "    .dataframe tbody tr th:only-of-type {\n",
       "        vertical-align: middle;\n",
       "    }\n",
       "\n",
       "    .dataframe tbody tr th {\n",
       "        vertical-align: top;\n",
       "    }\n",
       "\n",
       "    .dataframe thead th {\n",
       "        text-align: right;\n",
       "    }\n",
       "</style>\n",
       "<table border=\"1\" class=\"dataframe\">\n",
       "  <thead>\n",
       "    <tr style=\"text-align: right;\">\n",
       "      <th>Predicted</th>\n",
       "      <th>CU</th>\n",
       "      <th>FF</th>\n",
       "      <th>FT</th>\n",
       "      <th>SL</th>\n",
       "    </tr>\n",
       "    <tr>\n",
       "      <th>True</th>\n",
       "      <th></th>\n",
       "      <th></th>\n",
       "      <th></th>\n",
       "      <th></th>\n",
       "    </tr>\n",
       "  </thead>\n",
       "  <tbody>\n",
       "    <tr>\n",
       "      <th>CH</th>\n",
       "      <td>5</td>\n",
       "      <td>1</td>\n",
       "      <td>0</td>\n",
       "      <td>0</td>\n",
       "    </tr>\n",
       "    <tr>\n",
       "      <th>CU</th>\n",
       "      <td>32</td>\n",
       "      <td>42</td>\n",
       "      <td>1</td>\n",
       "      <td>28</td>\n",
       "    </tr>\n",
       "    <tr>\n",
       "      <th>FF</th>\n",
       "      <td>33</td>\n",
       "      <td>188</td>\n",
       "      <td>0</td>\n",
       "      <td>56</td>\n",
       "    </tr>\n",
       "    <tr>\n",
       "      <th>FT</th>\n",
       "      <td>0</td>\n",
       "      <td>6</td>\n",
       "      <td>0</td>\n",
       "      <td>1</td>\n",
       "    </tr>\n",
       "    <tr>\n",
       "      <th>SL</th>\n",
       "      <td>29</td>\n",
       "      <td>121</td>\n",
       "      <td>0</td>\n",
       "      <td>66</td>\n",
       "    </tr>\n",
       "  </tbody>\n",
       "</table>\n",
       "</div>"
      ],
      "text/plain": [
       "Predicted  CU   FF  FT  SL\n",
       "True                      \n",
       "CH          5    1   0   0\n",
       "CU         32   42   1  28\n",
       "FF         33  188   0  56\n",
       "FT          0    6   0   1\n",
       "SL         29  121   0  66"
      ]
     },
     "execution_count": 71,
     "metadata": {},
     "output_type": "execute_result"
    }
   ],
   "source": [
    "pd.crosstab(y_test, rfc_default_fit.predict(x_test), rownames=['True'], colnames=['Predicted'])"
   ]
  },
  {
   "cell_type": "markdown",
   "metadata": {
    "collapsed": true
   },
   "source": [
    "### Future Improvements\n",
    "- Use l1-regularized (LASSO) logistic regression to determine best/worst predictors \n",
    "- Test more SVM classifiers\n",
    "- Use GridSearchCV with RandomForest\n",
    "- Test ensemble of classifier models"
   ]
  },
  {
   "cell_type": "code",
   "execution_count": null,
   "metadata": {
    "collapsed": true
   },
   "outputs": [],
   "source": []
  }
 ],
 "metadata": {
  "kernelspec": {
   "display_name": "Python 3",
   "language": "python",
   "name": "python3"
  },
  "language_info": {
   "codemirror_mode": {
    "name": "ipython",
    "version": 3
   },
   "file_extension": ".py",
   "mimetype": "text/x-python",
   "name": "python",
   "nbconvert_exporter": "python",
   "pygments_lexer": "ipython3",
   "version": "3.6.8"
  }
 },
 "nbformat": 4,
 "nbformat_minor": 2
}
