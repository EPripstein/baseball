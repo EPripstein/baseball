{
 "cells": [
  {
   "cell_type": "markdown",
   "metadata": {},
   "source": [
    "### Exploring 2017 Statcast Data\n",
    "\n",
    "Goals:\n",
    "- Learn about what's contained in the Statcast data\n",
    "- Build a model to predict the result of a hit based on:\n",
    "    - Launch angles\n",
    "    - Exit velocity\n",
    "    - Barrel maybe??\n",
    "- Simulate how a player would perform on a different team. \n",
    "    - Get schedule for new team\n",
    "    - Randomly assign each hit to a stadium and predict result\n",
    "    - Calculate new metrics based on results"
   ]
  },
  {
   "cell_type": "code",
   "execution_count": 1,
   "metadata": {
    "collapsed": true
   },
   "outputs": [],
   "source": [
    "import pandas as pd\n",
    "import numpy as np\n",
    "import seaborn as sns\n",
    "\n",
    "%matplotlib inline"
   ]
  },
  {
   "cell_type": "markdown",
   "metadata": {},
   "source": [
    "### Data Preparation and Cleaning"
   ]
  },
  {
   "cell_type": "code",
   "execution_count": 84,
   "metadata": {
    "collapsed": true
   },
   "outputs": [],
   "source": [
    "sc2017 = pd.read_csv('statcast_2017.csv')"
   ]
  },
  {
   "cell_type": "code",
   "execution_count": 3,
   "metadata": {},
   "outputs": [
    {
     "data": {
      "text/html": [
       "<div>\n",
       "<table border=\"1\" class=\"dataframe\">\n",
       "  <thead>\n",
       "    <tr style=\"text-align: right;\">\n",
       "      <th></th>\n",
       "      <th>pitch_type</th>\n",
       "      <th>game_date</th>\n",
       "      <th>release_speed</th>\n",
       "      <th>release_pos_x</th>\n",
       "      <th>release_pos_z</th>\n",
       "      <th>player_name</th>\n",
       "      <th>batter</th>\n",
       "      <th>pitcher</th>\n",
       "      <th>events</th>\n",
       "      <th>description</th>\n",
       "      <th>...</th>\n",
       "      <th>pitch_name</th>\n",
       "      <th>home_score</th>\n",
       "      <th>away_score</th>\n",
       "      <th>bat_score</th>\n",
       "      <th>fld_score</th>\n",
       "      <th>post_away_score</th>\n",
       "      <th>post_home_score</th>\n",
       "      <th>post_bat_score</th>\n",
       "      <th>post_fld_score</th>\n",
       "      <th>barrel</th>\n",
       "    </tr>\n",
       "  </thead>\n",
       "  <tbody>\n",
       "    <tr>\n",
       "      <th>0</th>\n",
       "      <td>FF</td>\n",
       "      <td>2017-04-02</td>\n",
       "      <td>93.7</td>\n",
       "      <td>2.7324</td>\n",
       "      <td>6.3169</td>\n",
       "      <td>Randal Grichuk</td>\n",
       "      <td>545341</td>\n",
       "      <td>543557</td>\n",
       "      <td>single</td>\n",
       "      <td>hit_into_play_score</td>\n",
       "      <td>...</td>\n",
       "      <td>4-Seam Fastball</td>\n",
       "      <td>3</td>\n",
       "      <td>3</td>\n",
       "      <td>3</td>\n",
       "      <td>3</td>\n",
       "      <td>3</td>\n",
       "      <td>3</td>\n",
       "      <td>3</td>\n",
       "      <td>3</td>\n",
       "      <td>1.0</td>\n",
       "    </tr>\n",
       "    <tr>\n",
       "      <th>1</th>\n",
       "      <td>CU</td>\n",
       "      <td>2017-04-02</td>\n",
       "      <td>80.6</td>\n",
       "      <td>2.8152</td>\n",
       "      <td>6.3348</td>\n",
       "      <td>Randal Grichuk</td>\n",
       "      <td>545341</td>\n",
       "      <td>543557</td>\n",
       "      <td>NaN</td>\n",
       "      <td>ball</td>\n",
       "      <td>...</td>\n",
       "      <td>Curveball</td>\n",
       "      <td>3</td>\n",
       "      <td>3</td>\n",
       "      <td>3</td>\n",
       "      <td>3</td>\n",
       "      <td>3</td>\n",
       "      <td>3</td>\n",
       "      <td>3</td>\n",
       "      <td>3</td>\n",
       "      <td>NaN</td>\n",
       "    </tr>\n",
       "    <tr>\n",
       "      <th>2</th>\n",
       "      <td>CU</td>\n",
       "      <td>2017-04-02</td>\n",
       "      <td>77.9</td>\n",
       "      <td>2.9033</td>\n",
       "      <td>6.3019</td>\n",
       "      <td>Randal Grichuk</td>\n",
       "      <td>545341</td>\n",
       "      <td>543557</td>\n",
       "      <td>NaN</td>\n",
       "      <td>called_strike</td>\n",
       "      <td>...</td>\n",
       "      <td>Curveball</td>\n",
       "      <td>3</td>\n",
       "      <td>3</td>\n",
       "      <td>3</td>\n",
       "      <td>3</td>\n",
       "      <td>3</td>\n",
       "      <td>3</td>\n",
       "      <td>3</td>\n",
       "      <td>3</td>\n",
       "      <td>NaN</td>\n",
       "    </tr>\n",
       "    <tr>\n",
       "      <th>3</th>\n",
       "      <td>CU</td>\n",
       "      <td>2017-04-02</td>\n",
       "      <td>77.5</td>\n",
       "      <td>2.7517</td>\n",
       "      <td>6.2277</td>\n",
       "      <td>Kolten Wong</td>\n",
       "      <td>543939</td>\n",
       "      <td>543557</td>\n",
       "      <td>walk</td>\n",
       "      <td>blocked_ball</td>\n",
       "      <td>...</td>\n",
       "      <td>Curveball</td>\n",
       "      <td>3</td>\n",
       "      <td>3</td>\n",
       "      <td>3</td>\n",
       "      <td>3</td>\n",
       "      <td>3</td>\n",
       "      <td>3</td>\n",
       "      <td>3</td>\n",
       "      <td>3</td>\n",
       "      <td>NaN</td>\n",
       "    </tr>\n",
       "    <tr>\n",
       "      <th>4</th>\n",
       "      <td>FF</td>\n",
       "      <td>2017-04-02</td>\n",
       "      <td>93.1</td>\n",
       "      <td>2.8012</td>\n",
       "      <td>6.2854</td>\n",
       "      <td>Kolten Wong</td>\n",
       "      <td>543939</td>\n",
       "      <td>543557</td>\n",
       "      <td>NaN</td>\n",
       "      <td>foul</td>\n",
       "      <td>...</td>\n",
       "      <td>4-Seam Fastball</td>\n",
       "      <td>3</td>\n",
       "      <td>3</td>\n",
       "      <td>3</td>\n",
       "      <td>3</td>\n",
       "      <td>3</td>\n",
       "      <td>3</td>\n",
       "      <td>3</td>\n",
       "      <td>3</td>\n",
       "      <td>NaN</td>\n",
       "    </tr>\n",
       "  </tbody>\n",
       "</table>\n",
       "<p>5 rows × 88 columns</p>\n",
       "</div>"
      ],
      "text/plain": [
       "  pitch_type   game_date  release_speed  release_pos_x  release_pos_z  \\\n",
       "0         FF  2017-04-02           93.7         2.7324         6.3169   \n",
       "1         CU  2017-04-02           80.6         2.8152         6.3348   \n",
       "2         CU  2017-04-02           77.9         2.9033         6.3019   \n",
       "3         CU  2017-04-02           77.5         2.7517         6.2277   \n",
       "4         FF  2017-04-02           93.1         2.8012         6.2854   \n",
       "\n",
       "      player_name  batter  pitcher  events          description  ...    \\\n",
       "0  Randal Grichuk  545341   543557  single  hit_into_play_score  ...     \n",
       "1  Randal Grichuk  545341   543557     NaN                 ball  ...     \n",
       "2  Randal Grichuk  545341   543557     NaN        called_strike  ...     \n",
       "3     Kolten Wong  543939   543557    walk         blocked_ball  ...     \n",
       "4     Kolten Wong  543939   543557     NaN                 foul  ...     \n",
       "\n",
       "        pitch_name  home_score  away_score  bat_score  fld_score  \\\n",
       "0  4-Seam Fastball           3           3          3          3   \n",
       "1        Curveball           3           3          3          3   \n",
       "2        Curveball           3           3          3          3   \n",
       "3        Curveball           3           3          3          3   \n",
       "4  4-Seam Fastball           3           3          3          3   \n",
       "\n",
       "  post_away_score post_home_score post_bat_score post_fld_score barrel  \n",
       "0               3               3              3              3    1.0  \n",
       "1               3               3              3              3    NaN  \n",
       "2               3               3              3              3    NaN  \n",
       "3               3               3              3              3    NaN  \n",
       "4               3               3              3              3    NaN  \n",
       "\n",
       "[5 rows x 88 columns]"
      ]
     },
     "execution_count": 3,
     "metadata": {},
     "output_type": "execute_result"
    }
   ],
   "source": [
    "sc2017.head()"
   ]
  },
  {
   "cell_type": "code",
   "execution_count": 85,
   "metadata": {},
   "outputs": [
    {
     "name": "stdout",
     "output_type": "stream",
     "text": [
      "<class 'pandas.core.frame.DataFrame'>\n",
      "RangeIndex: 724626 entries, 0 to 724625\n",
      "Data columns (total 88 columns):\n",
      "pitch_type                         719031 non-null object\n",
      "game_date                          724626 non-null object\n",
      "release_speed                      718920 non-null float64\n",
      "release_pos_x                      718827 non-null float64\n",
      "release_pos_z                      718827 non-null float64\n",
      "player_name                        724626 non-null object\n",
      "batter                             724626 non-null int64\n",
      "pitcher                            724626 non-null int64\n",
      "events                             185659 non-null object\n",
      "description                        724626 non-null object\n",
      "spin_dir                           0 non-null float64\n",
      "spin_rate_deprecated               0 non-null float64\n",
      "break_angle_deprecated             0 non-null float64\n",
      "break_length_deprecated            0 non-null float64\n",
      "zone                               718780 non-null float64\n",
      "des                                185659 non-null object\n",
      "game_type                          724626 non-null object\n",
      "stand                              724626 non-null object\n",
      "p_throws                           724626 non-null object\n",
      "home_team                          724626 non-null object\n",
      "away_team                          724626 non-null object\n",
      "type                               724626 non-null object\n",
      "hit_location                       128147 non-null float64\n",
      "bb_type                            127555 non-null object\n",
      "balls                              724626 non-null int64\n",
      "strikes                            724626 non-null int64\n",
      "game_year                          724626 non-null int64\n",
      "pfx_x                              718827 non-null float64\n",
      "pfx_z                              718827 non-null float64\n",
      "plate_x                            718780 non-null float64\n",
      "plate_z                            718780 non-null float64\n",
      "on_3b                              68885 non-null float64\n",
      "on_2b                              135510 non-null float64\n",
      "on_1b                              220508 non-null float64\n",
      "outs_when_up                       724626 non-null int64\n",
      "inning                             724626 non-null int64\n",
      "inning_topbot                      724626 non-null object\n",
      "hc_x                               127243 non-null float64\n",
      "hc_y                               127243 non-null float64\n",
      "tfs_deprecated                     0 non-null float64\n",
      "tfs_zulu_deprecated                0 non-null float64\n",
      "pos2_person_id                     715335 non-null float64\n",
      "umpire                             0 non-null float64\n",
      "sv_id                              719785 non-null object\n",
      "vx0                                718827 non-null float64\n",
      "vy0                                718827 non-null float64\n",
      "vz0                                718827 non-null float64\n",
      "ax                                 718827 non-null float64\n",
      "ay                                 718827 non-null float64\n",
      "az                                 718827 non-null float64\n",
      "sz_top                             719075 non-null float64\n",
      "sz_bot                             719177 non-null float64\n",
      "hit_distance_sc                    189291 non-null float64\n",
      "launch_speed                       203326 non-null float64\n",
      "launch_angle                       203346 non-null float64\n",
      "effective_speed                    715595 non-null float64\n",
      "release_spin_rate                  704541 non-null float64\n",
      "release_extension                  718901 non-null float64\n",
      "game_pk                            724626 non-null int64\n",
      "pos1_person_id                     715335 non-null float64\n",
      "pos2_person_id.1                   715335 non-null float64\n",
      "pos3_person_id                     715335 non-null float64\n",
      "pos4_person_id                     715335 non-null float64\n",
      "pos5_person_id                     715335 non-null float64\n",
      "pos6_person_id                     715335 non-null float64\n",
      "pos7_person_id                     715335 non-null float64\n",
      "pos8_person_id                     715335 non-null float64\n",
      "pos9_person_id                     715335 non-null float64\n",
      "release_pos_y                      718827 non-null float64\n",
      "estimated_ba_using_speedangle      127550 non-null float64\n",
      "estimated_woba_using_speedangle    127550 non-null float64\n",
      "woba_value                         185659 non-null float64\n",
      "woba_denom                         185659 non-null float64\n",
      "babip_value                        185659 non-null float64\n",
      "iso_value                          185659 non-null float64\n",
      "launch_speed_angle                 127550 non-null float64\n",
      "at_bat_number                      724626 non-null int64\n",
      "pitch_number                       724626 non-null int64\n",
      "pitch_name                         719031 non-null object\n",
      "home_score                         724626 non-null int64\n",
      "away_score                         724626 non-null int64\n",
      "bat_score                          724626 non-null int64\n",
      "fld_score                          724626 non-null int64\n",
      "post_away_score                    724626 non-null int64\n",
      "post_home_score                    724626 non-null int64\n",
      "post_bat_score                     724626 non-null int64\n",
      "post_fld_score                     724626 non-null int64\n",
      "barrel                             203326 non-null float64\n",
      "dtypes: float64(54), int64(18), object(16)\n",
      "memory usage: 486.5+ MB\n"
     ]
    }
   ],
   "source": [
    "sc2017.info()"
   ]
  },
  {
   "cell_type": "code",
   "execution_count": 11,
   "metadata": {},
   "outputs": [
    {
     "data": {
      "text/plain": [
       "field_out                       73376\n",
       "strikeout                       39949\n",
       "single                          26918\n",
       "walk                            14859\n",
       "double                           8397\n",
       "home_run                         6105\n",
       "grounded_into_double_play        3804\n",
       "force_out                        3657\n",
       "hit_by_pitch                     1763\n",
       "field_error                      1579\n",
       "sac_fly                          1146\n",
       "intent_walk                       970\n",
       "sac_bunt                          925\n",
       "triple                            795\n",
       "double_play                       423\n",
       "fielders_choice_out               308\n",
       "caught_stealing_2b                203\n",
       "strikeout_double_play             155\n",
       "fielders_choice                    93\n",
       "catcher_interf                     43\n",
       "other_out                          36\n",
       "pickoff_caught_stealing_2b         32\n",
       "pickoff_1b                         30\n",
       "pickoff_2b                         29\n",
       "sac_fly_double_play                22\n",
       "caught_stealing_3b                 19\n",
       "caught_stealing_home                7\n",
       "triple_play                         7\n",
       "run                                 4\n",
       "pickoff_caught_stealing_3b          3\n",
       "batter_interference                 1\n",
       "pickoff_caught_stealing_home        1\n",
       "Name: events, dtype: int64"
      ]
     },
     "execution_count": 11,
     "metadata": {},
     "output_type": "execute_result"
    }
   ],
   "source": [
    "#Check to see if 'events' contains outcomes of the at bat\n",
    "\n",
    "sc2017['events'].value_counts()"
   ]
  },
  {
   "cell_type": "code",
   "execution_count": 12,
   "metadata": {},
   "outputs": [
    {
     "data": {
      "text/plain": [
       "R    424224\n",
       "L    300402\n",
       "Name: stand, dtype: int64"
      ]
     },
     "execution_count": 12,
     "metadata": {},
     "output_type": "execute_result"
    }
   ],
   "source": [
    "#Check if 'stand' represents batter handedness\n",
    "\n",
    "sc2017['stand'].value_counts()"
   ]
  },
  {
   "cell_type": "markdown",
   "metadata": {},
   "source": [
    "### Refining the data\n",
    "\n",
    "I'm only interested in the batting data, so I'm going to get rid of a lot of the columns related to pitching and game state. One thing that's an issue is that there doesn't appear to be a horizontal launch angle. The columns I'm interested in keeping are:\n",
    "\n",
    "- player_name\n",
    "- stand\n",
    "- events\n",
    "- home_team\n",
    "- launch_angle\n",
    "- launch_speed\n",
    "- barrel\n",
    "\n",
    "Before I filter down to just those columns, I'm going to reduce the dataframe to only include rows with a launch angle and launch speed. "
   ]
  },
  {
   "cell_type": "code",
   "execution_count": 94,
   "metadata": {},
   "outputs": [],
   "source": [
    "sc2017_batted_ball = sc2017[(pd.notnull(sc2017['launch_angle'])) & (pd.notnull(sc2017['launch_speed']))]"
   ]
  },
  {
   "cell_type": "code",
   "execution_count": 95,
   "metadata": {},
   "outputs": [
    {
     "name": "stdout",
     "output_type": "stream",
     "text": [
      "<class 'pandas.core.frame.DataFrame'>\n",
      "Int64Index: 203326 entries, 0 to 724616\n",
      "Data columns (total 88 columns):\n",
      "pitch_type                         202923 non-null object\n",
      "game_date                          203326 non-null object\n",
      "release_speed                      202886 non-null float64\n",
      "release_pos_x                      202853 non-null float64\n",
      "release_pos_z                      202853 non-null float64\n",
      "player_name                        203326 non-null object\n",
      "batter                             203326 non-null int64\n",
      "pitcher                            203326 non-null int64\n",
      "events                             128219 non-null object\n",
      "description                        203326 non-null object\n",
      "spin_dir                           0 non-null float64\n",
      "spin_rate_deprecated               0 non-null float64\n",
      "break_angle_deprecated             0 non-null float64\n",
      "break_length_deprecated            0 non-null float64\n",
      "zone                               202839 non-null float64\n",
      "des                                128219 non-null object\n",
      "game_type                          203326 non-null object\n",
      "stand                              203326 non-null object\n",
      "p_throws                           203326 non-null object\n",
      "home_team                          203326 non-null object\n",
      "away_team                          203326 non-null object\n",
      "type                               203326 non-null object\n",
      "hit_location                       88111 non-null float64\n",
      "bb_type                            127550 non-null object\n",
      "balls                              203326 non-null int64\n",
      "strikes                            203326 non-null int64\n",
      "game_year                          203326 non-null int64\n",
      "pfx_x                              202853 non-null float64\n",
      "pfx_z                              202853 non-null float64\n",
      "plate_x                            202839 non-null float64\n",
      "plate_z                            202839 non-null float64\n",
      "on_3b                              19783 non-null float64\n",
      "on_2b                              38365 non-null float64\n",
      "on_1b                              63862 non-null float64\n",
      "outs_when_up                       203326 non-null int64\n",
      "inning                             203326 non-null int64\n",
      "inning_topbot                      203326 non-null object\n",
      "hc_x                               127238 non-null float64\n",
      "hc_y                               127238 non-null float64\n",
      "tfs_deprecated                     0 non-null float64\n",
      "tfs_zulu_deprecated                0 non-null float64\n",
      "pos2_person_id                     201680 non-null float64\n",
      "umpire                             0 non-null float64\n",
      "sv_id                              203042 non-null object\n",
      "vx0                                202853 non-null float64\n",
      "vy0                                202853 non-null float64\n",
      "vz0                                202853 non-null float64\n",
      "ax                                 202853 non-null float64\n",
      "ay                                 202853 non-null float64\n",
      "az                                 202853 non-null float64\n",
      "sz_top                             202838 non-null float64\n",
      "sz_bot                             202882 non-null float64\n",
      "hit_distance_sc                    189260 non-null float64\n",
      "launch_speed                       203326 non-null float64\n",
      "launch_angle                       203326 non-null float64\n",
      "effective_speed                    202214 non-null float64\n",
      "release_spin_rate                  199276 non-null float64\n",
      "release_extension                  202880 non-null float64\n",
      "game_pk                            203326 non-null int64\n",
      "pos1_person_id                     201680 non-null float64\n",
      "pos2_person_id.1                   201680 non-null float64\n",
      "pos3_person_id                     201680 non-null float64\n",
      "pos4_person_id                     201680 non-null float64\n",
      "pos5_person_id                     201680 non-null float64\n",
      "pos6_person_id                     201680 non-null float64\n",
      "pos7_person_id                     201680 non-null float64\n",
      "pos8_person_id                     201680 non-null float64\n",
      "pos9_person_id                     201680 non-null float64\n",
      "release_pos_y                      202853 non-null float64\n",
      "estimated_ba_using_speedangle      127550 non-null float64\n",
      "estimated_woba_using_speedangle    127550 non-null float64\n",
      "woba_value                         128219 non-null float64\n",
      "woba_denom                         128219 non-null float64\n",
      "babip_value                        128219 non-null float64\n",
      "iso_value                          128219 non-null float64\n",
      "launch_speed_angle                 127550 non-null float64\n",
      "at_bat_number                      203326 non-null int64\n",
      "pitch_number                       203326 non-null int64\n",
      "pitch_name                         202923 non-null object\n",
      "home_score                         203326 non-null int64\n",
      "away_score                         203326 non-null int64\n",
      "bat_score                          203326 non-null int64\n",
      "fld_score                          203326 non-null int64\n",
      "post_away_score                    203326 non-null int64\n",
      "post_home_score                    203326 non-null int64\n",
      "post_bat_score                     203326 non-null int64\n",
      "post_fld_score                     203326 non-null int64\n",
      "barrel                             203326 non-null float64\n",
      "dtypes: float64(54), int64(18), object(16)\n",
      "memory usage: 138.1+ MB\n"
     ]
    }
   ],
   "source": [
    "sc2017_batted_ball.info()"
   ]
  },
  {
   "cell_type": "markdown",
   "metadata": {},
   "source": [
    "I also need only cases where I know the outcome, which is in the 'events' column"
   ]
  },
  {
   "cell_type": "code",
   "execution_count": 97,
   "metadata": {},
   "outputs": [],
   "source": [
    "sc2017_batted_ball = sc2017_batted_ball[pd.notnull(sc2017_batted_ball['events'])]"
   ]
  },
  {
   "cell_type": "code",
   "execution_count": 98,
   "metadata": {},
   "outputs": [
    {
     "name": "stdout",
     "output_type": "stream",
     "text": [
      "<class 'pandas.core.frame.DataFrame'>\n",
      "Int64Index: 128219 entries, 0 to 724616\n",
      "Data columns (total 88 columns):\n",
      "pitch_type                         127821 non-null object\n",
      "game_date                          128219 non-null object\n",
      "release_speed                      127779 non-null float64\n",
      "release_pos_x                      127748 non-null float64\n",
      "release_pos_z                      127748 non-null float64\n",
      "player_name                        128219 non-null object\n",
      "batter                             128219 non-null int64\n",
      "pitcher                            128219 non-null int64\n",
      "events                             128219 non-null object\n",
      "description                        128219 non-null object\n",
      "spin_dir                           0 non-null float64\n",
      "spin_rate_deprecated               0 non-null float64\n",
      "break_angle_deprecated             0 non-null float64\n",
      "break_length_deprecated            0 non-null float64\n",
      "zone                               127737 non-null float64\n",
      "des                                128219 non-null object\n",
      "game_type                          128219 non-null object\n",
      "stand                              128219 non-null object\n",
      "p_throws                           128219 non-null object\n",
      "home_team                          128219 non-null object\n",
      "away_team                          128219 non-null object\n",
      "type                               128219 non-null object\n",
      "hit_location                       88111 non-null float64\n",
      "bb_type                            127550 non-null object\n",
      "balls                              128219 non-null int64\n",
      "strikes                            128219 non-null int64\n",
      "game_year                          128219 non-null int64\n",
      "pfx_x                              127748 non-null float64\n",
      "pfx_z                              127748 non-null float64\n",
      "plate_x                            127737 non-null float64\n",
      "plate_z                            127737 non-null float64\n",
      "on_3b                              12540 non-null float64\n",
      "on_2b                              24232 non-null float64\n",
      "on_1b                              40253 non-null float64\n",
      "outs_when_up                       128219 non-null int64\n",
      "inning                             128219 non-null int64\n",
      "inning_topbot                      128219 non-null object\n",
      "hc_x                               127238 non-null float64\n",
      "hc_y                               127238 non-null float64\n",
      "tfs_deprecated                     0 non-null float64\n",
      "tfs_zulu_deprecated                0 non-null float64\n",
      "pos2_person_id                     126868 non-null float64\n",
      "umpire                             0 non-null float64\n",
      "sv_id                              127935 non-null object\n",
      "vx0                                127748 non-null float64\n",
      "vy0                                127748 non-null float64\n",
      "vz0                                127748 non-null float64\n",
      "ax                                 127748 non-null float64\n",
      "ay                                 127748 non-null float64\n",
      "az                                 127748 non-null float64\n",
      "sz_top                             127808 non-null float64\n",
      "sz_bot                             127832 non-null float64\n",
      "hit_distance_sc                    114155 non-null float64\n",
      "launch_speed                       128219 non-null float64\n",
      "launch_angle                       128219 non-null float64\n",
      "effective_speed                    127107 non-null float64\n",
      "release_spin_rate                  125298 non-null float64\n",
      "release_extension                  127773 non-null float64\n",
      "game_pk                            128219 non-null int64\n",
      "pos1_person_id                     126868 non-null float64\n",
      "pos2_person_id.1                   126868 non-null float64\n",
      "pos3_person_id                     126868 non-null float64\n",
      "pos4_person_id                     126868 non-null float64\n",
      "pos5_person_id                     126868 non-null float64\n",
      "pos6_person_id                     126868 non-null float64\n",
      "pos7_person_id                     126868 non-null float64\n",
      "pos8_person_id                     126868 non-null float64\n",
      "pos9_person_id                     126868 non-null float64\n",
      "release_pos_y                      127748 non-null float64\n",
      "estimated_ba_using_speedangle      127550 non-null float64\n",
      "estimated_woba_using_speedangle    127550 non-null float64\n",
      "woba_value                         128219 non-null float64\n",
      "woba_denom                         128219 non-null float64\n",
      "babip_value                        128219 non-null float64\n",
      "iso_value                          128219 non-null float64\n",
      "launch_speed_angle                 127550 non-null float64\n",
      "at_bat_number                      128219 non-null int64\n",
      "pitch_number                       128219 non-null int64\n",
      "pitch_name                         127821 non-null object\n",
      "home_score                         128219 non-null int64\n",
      "away_score                         128219 non-null int64\n",
      "bat_score                          128219 non-null int64\n",
      "fld_score                          128219 non-null int64\n",
      "post_away_score                    128219 non-null int64\n",
      "post_home_score                    128219 non-null int64\n",
      "post_bat_score                     128219 non-null int64\n",
      "post_fld_score                     128219 non-null int64\n",
      "barrel                             128219 non-null float64\n",
      "dtypes: float64(54), int64(18), object(16)\n",
      "memory usage: 87.1+ MB\n"
     ]
    }
   ],
   "source": [
    "sc2017_batted_ball.info()"
   ]
  },
  {
   "cell_type": "code",
   "execution_count": 99,
   "metadata": {},
   "outputs": [
    {
     "data": {
      "text/plain": [
       "field_out                     73376\n",
       "single                        26913\n",
       "double                         8397\n",
       "home_run                       6105\n",
       "grounded_into_double_play      3804\n",
       "force_out                      3657\n",
       "field_error                    1579\n",
       "sac_fly                        1146\n",
       "sac_bunt                        925\n",
       "triple                          795\n",
       "double_play                     423\n",
       "strikeout                       325\n",
       "fielders_choice_out             308\n",
       "hit_by_pitch                    298\n",
       "fielders_choice                  93\n",
       "sac_fly_double_play              22\n",
       "walk                             18\n",
       "catcher_interf                   12\n",
       "triple_play                       7\n",
       "pickoff_1b                        5\n",
       "pickoff_caught_stealing_2b        4\n",
       "pickoff_2b                        3\n",
       "other_out                         2\n",
       "strikeout_double_play             1\n",
       "caught_stealing_2b                1\n",
       "Name: events, dtype: int64"
      ]
     },
     "execution_count": 99,
     "metadata": {},
     "output_type": "execute_result"
    }
   ],
   "source": [
    "sc2017_batted_ball['events'].value_counts()"
   ]
  },
  {
   "cell_type": "markdown",
   "metadata": {},
   "source": [
    "There are some weird situations here where clearly the result is not a batted ball (hbp, walk, pickoff attempts). Those are:\n",
    "\n",
    "- hit_by_pitch\n",
    "- walk\n",
    "- catcher_interf\n",
    "- pickoff_1b\n",
    "- pickoff_2b\n",
    "- pickoff_caught_stealing_2b\n",
    "- strikeout_double_play\n",
    "- caught_stealing_2b\n",
    "\n",
    "I'll remove the rows containing these events"
   ]
  },
  {
   "cell_type": "code",
   "execution_count": 101,
   "metadata": {
    "collapsed": true
   },
   "outputs": [],
   "source": [
    "#Define bad events\n",
    "\n",
    "bad_events = ['hit_by_pitch','walk','catcher_interf','pickoff_1b','pickoff_2b','pickoff_caught_stealing_2b',\n",
    "              'strikeout_double_play','caught_stealing_2b']"
   ]
  },
  {
   "cell_type": "code",
   "execution_count": 124,
   "metadata": {},
   "outputs": [],
   "source": [
    "#Drop bad events\n",
    "\n",
    "def is_bad_event(x, list_of_bad_events):\n",
    "    if x in list_of_bad_events:\n",
    "        return True\n",
    "    else:\n",
    "        return False"
   ]
  },
  {
   "cell_type": "code",
   "execution_count": 128,
   "metadata": {},
   "outputs": [],
   "source": [
    "sc2017_batted_ball['drop_col'] = sc2017_batted_ball['events'].apply(lambda x: is_bad_event(x,bad_events))"
   ]
  },
  {
   "cell_type": "code",
   "execution_count": 130,
   "metadata": {},
   "outputs": [],
   "source": [
    "sc2017_batted_ball = sc2017_batted_ball[sc2017_batted_ball['drop_col'] == False]"
   ]
  },
  {
   "cell_type": "code",
   "execution_count": 132,
   "metadata": {},
   "outputs": [
    {
     "data": {
      "text/plain": [
       "field_out                    73376\n",
       "single                       26913\n",
       "double                        8397\n",
       "home_run                      6105\n",
       "grounded_into_double_play     3804\n",
       "force_out                     3657\n",
       "field_error                   1579\n",
       "sac_fly                       1146\n",
       "sac_bunt                       925\n",
       "triple                         795\n",
       "double_play                    423\n",
       "strikeout                      325\n",
       "fielders_choice_out            308\n",
       "fielders_choice                 93\n",
       "sac_fly_double_play             22\n",
       "triple_play                      7\n",
       "other_out                        2\n",
       "Name: events, dtype: int64"
      ]
     },
     "execution_count": 132,
     "metadata": {},
     "output_type": "execute_result"
    }
   ],
   "source": [
    "#Check to see if this worked\n",
    "\n",
    "sc2017_batted_ball['events'].value_counts()"
   ]
  },
  {
   "cell_type": "markdown",
   "metadata": {},
   "source": [
    "#### Changing the 'events' labels\n",
    "\n",
    "I'd like to simplify the 'events' outcomes to [1B, 2B, 3B, HR, OUT]. "
   ]
  },
  {
   "cell_type": "code",
   "execution_count": 133,
   "metadata": {
    "collapsed": true
   },
   "outputs": [],
   "source": [
    "def relabel_event(x):\n",
    "    if x == 'single':\n",
    "        return '1B'\n",
    "    elif x == 'double':\n",
    "        return '2B'\n",
    "    elif x == 'triple':\n",
    "        return '3B'\n",
    "    elif x == 'home_run':\n",
    "        return 'HR'\n",
    "    else:\n",
    "        return 'OUT'"
   ]
  },
  {
   "cell_type": "code",
   "execution_count": 135,
   "metadata": {},
   "outputs": [
    {
     "name": "stderr",
     "output_type": "stream",
     "text": [
      "/anaconda/lib/python3.6/site-packages/ipykernel/__main__.py:1: SettingWithCopyWarning: \n",
      "A value is trying to be set on a copy of a slice from a DataFrame.\n",
      "Try using .loc[row_indexer,col_indexer] = value instead\n",
      "\n",
      "See the caveats in the documentation: http://pandas.pydata.org/pandas-docs/stable/indexing.html#indexing-view-versus-copy\n",
      "  if __name__ == '__main__':\n"
     ]
    }
   ],
   "source": [
    "sc2017_batted_ball['events'] = sc2017_batted_ball['events'].apply(lambda x: relabel_event(x))"
   ]
  },
  {
   "cell_type": "code",
   "execution_count": 136,
   "metadata": {},
   "outputs": [
    {
     "data": {
      "text/plain": [
       "OUT    85667\n",
       "1B     26913\n",
       "2B      8397\n",
       "HR      6105\n",
       "3B       795\n",
       "Name: events, dtype: int64"
      ]
     },
     "execution_count": 136,
     "metadata": {},
     "output_type": "execute_result"
    }
   ],
   "source": [
    "sc2017_batted_ball['events'].value_counts()"
   ]
  },
  {
   "cell_type": "code",
   "execution_count": 142,
   "metadata": {},
   "outputs": [
    {
     "data": {
      "text/plain": [
       "<seaborn.axisgrid.FacetGrid at 0x1174fe940>"
      ]
     },
     "execution_count": 142,
     "metadata": {},
     "output_type": "execute_result"
    },
    {
     "data": {
      "image/png": "[encoded data removed]",
      "text/plain": [
       "<matplotlib.figure.Figure at 0x1175013c8>"
      ]
     },
     "metadata": {},
     "output_type": "display_data"
    }
   ],
   "source": [
    "sns.lmplot('launch_speed', 'launch_angle', data = sc2017_batted_ball, hue = 'events', fit_reg = False, \n",
    "           scatter_kws={'alpha': 0.3})"
   ]
  },
  {
   "cell_type": "markdown",
   "metadata": {},
   "source": [
    "### Filtering Columns\n",
    "\n",
    "Finally, I need to filter to just the columns I'm interested in, which again are:\n",
    "\n",
    "- player_name\n",
    "- stand\n",
    "- events\n",
    "- home_team\n",
    "- launch_angle\n",
    "- launch_speed\n",
    "- barrel"
   ]
  },
  {
   "cell_type": "code",
   "execution_count": 144,
   "metadata": {},
   "outputs": [],
   "source": [
    "cols = ['player_name','stand','events','home_team','launch_angle','launch_speed','barrel']"
   ]
  },
  {
   "cell_type": "code",
   "execution_count": 147,
   "metadata": {},
   "outputs": [],
   "source": [
    "sc2017_batted_ball_filtered = sc2017_batted_ball[cols]"
   ]
  },
  {
   "cell_type": "code",
   "execution_count": 148,
   "metadata": {},
   "outputs": [
    {
     "data": {
      "text/html": [
       "<div>\n",
       "<table border=\"1\" class=\"dataframe\">\n",
       "  <thead>\n",
       "    <tr style=\"text-align: right;\">\n",
       "      <th></th>\n",
       "      <th>player_name</th>\n",
       "      <th>stand</th>\n",
       "      <th>events</th>\n",
       "      <th>home_team</th>\n",
       "      <th>launch_angle</th>\n",
       "      <th>launch_speed</th>\n",
       "      <th>barrel</th>\n",
       "    </tr>\n",
       "  </thead>\n",
       "  <tbody>\n",
       "    <tr>\n",
       "      <th>0</th>\n",
       "      <td>Randal Grichuk</td>\n",
       "      <td>R</td>\n",
       "      <td>1B</td>\n",
       "      <td>STL</td>\n",
       "      <td>18.100</td>\n",
       "      <td>109.3</td>\n",
       "      <td>1.0</td>\n",
       "    </tr>\n",
       "    <tr>\n",
       "      <th>18</th>\n",
       "      <td>Jose Martinez</td>\n",
       "      <td>R</td>\n",
       "      <td>2B</td>\n",
       "      <td>STL</td>\n",
       "      <td>24.752</td>\n",
       "      <td>104.7</td>\n",
       "      <td>1.0</td>\n",
       "    </tr>\n",
       "    <tr>\n",
       "      <th>22</th>\n",
       "      <td>Matt Carpenter</td>\n",
       "      <td>L</td>\n",
       "      <td>OUT</td>\n",
       "      <td>STL</td>\n",
       "      <td>44.199</td>\n",
       "      <td>81.9</td>\n",
       "      <td>0.0</td>\n",
       "    </tr>\n",
       "    <tr>\n",
       "      <th>28</th>\n",
       "      <td>Javier Baez</td>\n",
       "      <td>R</td>\n",
       "      <td>OUT</td>\n",
       "      <td>STL</td>\n",
       "      <td>65.349</td>\n",
       "      <td>89.9</td>\n",
       "      <td>0.0</td>\n",
       "    </tr>\n",
       "    <tr>\n",
       "      <th>34</th>\n",
       "      <td>Willson Contreras</td>\n",
       "      <td>R</td>\n",
       "      <td>HR</td>\n",
       "      <td>STL</td>\n",
       "      <td>26.617</td>\n",
       "      <td>106.2</td>\n",
       "      <td>1.0</td>\n",
       "    </tr>\n",
       "  </tbody>\n",
       "</table>\n",
       "</div>"
      ],
      "text/plain": [
       "          player_name stand events home_team  launch_angle  launch_speed  \\\n",
       "0      Randal Grichuk     R     1B       STL        18.100         109.3   \n",
       "18      Jose Martinez     R     2B       STL        24.752         104.7   \n",
       "22     Matt Carpenter     L    OUT       STL        44.199          81.9   \n",
       "28        Javier Baez     R    OUT       STL        65.349          89.9   \n",
       "34  Willson Contreras     R     HR       STL        26.617         106.2   \n",
       "\n",
       "    barrel  \n",
       "0      1.0  \n",
       "18     1.0  \n",
       "22     0.0  \n",
       "28     0.0  \n",
       "34     1.0  "
      ]
     },
     "execution_count": 148,
     "metadata": {},
     "output_type": "execute_result"
    }
   ],
   "source": [
    "sc2017_batted_ball_filtered.head()"
   ]
  },
  {
   "cell_type": "code",
   "execution_count": 149,
   "metadata": {
    "collapsed": true
   },
   "outputs": [],
   "source": [
    "sc2017_batted_ball_filtered.to_csv('sc2017_batted_ball_filtered.csv',index = False)"
   ]
  }
 ],
 "metadata": {
  "kernelspec": {
   "display_name": "Python 3",
   "language": "python",
   "name": "python3"
  },
  "language_info": {
   "codemirror_mode": {
    "name": "ipython",
    "version": 3
   },
   "file_extension": ".py",
   "mimetype": "text/x-python",
   "name": "python",
   "nbconvert_exporter": "python",
   "pygments_lexer": "ipython3",
   "version": "3.6.0"
  }
 },
 "nbformat": 4,
 "nbformat_minor": 2
}
